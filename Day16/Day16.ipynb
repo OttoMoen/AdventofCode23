{
  "nbformat": 4,
  "nbformat_minor": 0,
  "metadata": {
    "colab": {
      "provenance": []
    },
    "kernelspec": {
      "name": "python3",
      "display_name": "Python 3"
    },
    "language_info": {
      "name": "python"
    }
  },
  "cells": [
    {
      "cell_type": "markdown",
      "source": [
        "# Advent of Code 2023: Day 16\n",
        "https://adventofcode.com/2023/day/16\n"
      ],
      "metadata": {
        "id": "e7qDcWW3JF8G"
      }
    },
    {
      "cell_type": "markdown",
      "source": [
        "## Part 1\n",
        "Count how many tiles are touched by the beam of light"
      ],
      "metadata": {
        "id": "krtSVL3uJOQC"
      }
    },
    {
      "cell_type": "markdown",
      "source": [
        "### Get the data into a list of lists of characters"
      ],
      "metadata": {
        "id": "Jc2_NXw63k49"
      }
    },
    {
      "cell_type": "code",
      "source": [
        "myfile = open('input.txt', 'r')\n",
        "data = myfile.read()\n",
        "data_list = data.split('\\n')\n",
        "data_list = [list(line) for line in data_list]"
      ],
      "metadata": {
        "id": "xQfXHvPiJQrT"
      },
      "execution_count": 74,
      "outputs": []
    },
    {
      "cell_type": "markdown",
      "source": [
        "### Create function to get in which direction(s) the light should travel\n",
        "Given its current position and direction of travel"
      ],
      "metadata": {
        "id": "5alcRqEK7qHi"
      }
    },
    {
      "cell_type": "code",
      "source": [
        "def getNeighbors(pos, data, dir_dict):\n",
        "\n",
        "  nrows = len(data)\n",
        "  ncols = len(data[0])\n",
        "  row = pos[0]\n",
        "  col = pos[1]\n",
        "  dir = pos[2]\n",
        "  curr = data[row][col]\n",
        "  neighbors = []\n",
        "  new_dir = dir_dict[curr][dir]\n",
        "\n",
        "  for d in new_dir:\n",
        "    new_pos = [row+d[0], col+d[1], d[2]]\n",
        "    if(new_pos[0] >= 0 and new_pos[0] < nrows) and (new_pos[1] >= 0 and new_pos[1] < ncols):\n",
        "      neighbors.append(new_pos)\n",
        "\n",
        "  return neighbors"
      ],
      "metadata": {
        "id": "V0Ha74F-e-py"
      },
      "execution_count": 75,
      "outputs": []
    },
    {
      "cell_type": "markdown",
      "source": [
        "### Create function to explore the map\n",
        "The light will travel around, keep track of combinations of positions and direction of travel to avoid infinite loops"
      ],
      "metadata": {
        "id": "4yO-6nem77Zt"
      }
    },
    {
      "cell_type": "code",
      "source": [
        "def findPaths(start, data, dir_dict):\n",
        "  explore_q = [start]\n",
        "  visited = [start]\n",
        "\n",
        "  while explore_q:\n",
        "    curr = explore_q.pop(0)\n",
        "    neighbors = getNeighbors(curr, data, dir_dict)\n",
        "\n",
        "    for neighbor in neighbors:\n",
        "      if neighbor not in visited:\n",
        "        visited.append(neighbor)\n",
        "        explore_q.append(neighbor)\n",
        "  return visited"
      ],
      "metadata": {
        "id": "P7VkL6hc3ckC"
      },
      "execution_count": 76,
      "outputs": []
    },
    {
      "cell_type": "markdown",
      "source": [
        "### Create function to count unique tiles the light has touched"
      ],
      "metadata": {
        "id": "72KRPh6i8MCH"
      }
    },
    {
      "cell_type": "code",
      "source": [
        "def countUniqueTiles(pos_list):\n",
        "  total_tiles = 0\n",
        "  p_list_unique = []\n",
        "  for pos in pos_list:\n",
        "    if pos[:-1] not in p_list_unique:\n",
        "      p_list_unique.append(pos[:-1])\n",
        "      total_tiles +=1\n",
        "  return total_tiles"
      ],
      "metadata": {
        "id": "gOiJAXH24nRU"
      },
      "execution_count": 77,
      "outputs": []
    },
    {
      "cell_type": "markdown",
      "source": [
        "### Calculate the number of tiles"
      ],
      "metadata": {
        "id": "4ZseG9Wt8Rpi"
      }
    },
    {
      "cell_type": "code",
      "source": [
        "dirs = {\n",
        "      '.': {\n",
        "          'u': [[-1,0, 'u']],\n",
        "          'd': [[1,0, 'd']],\n",
        "          'l': [[0,-1, 'l']],\n",
        "          'r': [[0,1, 'r']]\n",
        "      },\n",
        "      '-': {\n",
        "          'l': [[0,-1, 'l']],\n",
        "          'r': [[0,1, 'r']],\n",
        "          'u': [[0,-1,'l'], [0,1,'r']],\n",
        "          'd': [[0,-1,'l'], [0,1,'r']]\n",
        "      },\n",
        "      '|': {\n",
        "          'u': [[-1,0, 'u']],\n",
        "          'd': [[1,0, 'd']],\n",
        "          'l': [[-1,0, 'u'],[1,0, 'd']],\n",
        "          'r': [[-1,0, 'u'],[1,0, 'd']]\n",
        "      },\n",
        "      '/': {\n",
        "          'u': [[0,1, 'r']],\n",
        "          'd': [[0,-1, 'l']],\n",
        "          'l': [[1,0, 'd']],\n",
        "          'r': [[-1,0, 'u']]\n",
        "      },\n",
        "      '\\\\': {\n",
        "          'u': [[0,-1, 'l']],\n",
        "          'd': [[0,1, 'r']],\n",
        "          'l': [[-1,0, 'u']],\n",
        "          'r': [[1,0, 'd']]\n",
        "      }\n",
        "  }\n",
        "\n",
        "start = [0,0,'r']\n",
        "pos_list = findPaths(start,data_list,dirs)\n",
        "countUniqueTiles(pos_list)"
      ],
      "metadata": {
        "colab": {
          "base_uri": "https://localhost:8080/"
        },
        "id": "O58XA--q5avS",
        "outputId": "96d671b4-e646-413f-d212-8bb7e4a60dd1"
      },
      "execution_count": 78,
      "outputs": [
        {
          "output_type": "execute_result",
          "data": {
            "text/plain": [
              "7496"
            ]
          },
          "metadata": {},
          "execution_count": 78
        }
      ]
    },
    {
      "cell_type": "markdown",
      "source": [
        "## Part 2\n",
        "Find the starting position and direction that maximizes the amount of tiles touched by the light"
      ],
      "metadata": {
        "id": "xVSJPgDS7mTn"
      }
    },
    {
      "cell_type": "code",
      "source": [
        "max_tiles = 0\n",
        "\n",
        "for i in range(len(data_list)):\n",
        "  if (i == 0):\n",
        "    for j in range(len(data_list[0])):\n",
        "      if j == 0:\n",
        "        pos_list = findPaths([i,j, 'r'], data_list, dirs)\n",
        "        tiles = countUniqueTiles(pos_list)\n",
        "        if tiles > max_tiles:\n",
        "          max_tiles = tiles\n",
        "        pos_list = findPaths([i,j,'d'],data_list,dirs)\n",
        "        tiles = countUniqueTiles(pos_list)\n",
        "        if tiles > max_tiles:\n",
        "          max_tiles = tiles\n",
        "      elif j == len(data_list[0])-1:\n",
        "        pos_list = findPaths([i,j, 'l'], data_list, dirs)\n",
        "        tiles = countUniqueTiles(pos_list)\n",
        "        if tiles > max_tiles:\n",
        "          max_tiles = tiles\n",
        "        pos_list = findPaths([i,j,'d'],data_list,dirs)\n",
        "        tiles = countUniqueTiles(pos_list)\n",
        "        if tiles > max_tiles:\n",
        "          max_tiles = tiles\n",
        "      else:\n",
        "        pos_list = findPaths([i,j,'d'],data_list,dirs)\n",
        "        tiles = countUniqueTiles(pos_list)\n",
        "        if tiles > max_tiles:\n",
        "          max_tiles = tiles\n",
        "\n",
        "  elif i == len(data_list)-1:\n",
        "    for j in range(len(data_list[0])):\n",
        "      if j == 0:\n",
        "        pos_list = findPaths([i,j, 'r'], data_list, dirs)\n",
        "        tiles = countUniqueTiles(pos_list)\n",
        "        if tiles > max_tiles:\n",
        "          max_tiles = tiles\n",
        "        pos_list = findPaths([i,j,'u'],data_list,dirs)\n",
        "        tiles = countUniqueTiles(pos_list)\n",
        "        if tiles > max_tiles:\n",
        "          max_tiles = tiles\n",
        "      elif j == len(data_list[0])-1:\n",
        "        pos_list = findPaths([i,j, 'l'], data_list, dirs)\n",
        "        tiles = countUniqueTiles(pos_list)\n",
        "        if tiles > max_tiles:\n",
        "          max_tiles = tiles\n",
        "        pos_list = findPaths([i,j,'u'],data_list,dirs)\n",
        "        tiles = countUniqueTiles(pos_list)\n",
        "        if tiles > max_tiles:\n",
        "          max_tiles = tiles\n",
        "      else:\n",
        "        pos_list = findPaths([i,j,'u'],data_list,dirs)\n",
        "        tiles = countUniqueTiles(pos_list)\n",
        "        if tiles > max_tiles:\n",
        "          max_tiles = tiles\n",
        "  else:\n",
        "    pos_list = findPaths([i,0, 'r'], data_list, dirs)\n",
        "    tiles = countUniqueTiles(pos_list)\n",
        "    if tiles > max_tiles:\n",
        "      max_tiles = tiles\n",
        "    pos_list = findPaths([i,len(data_list[0])-1,'l'],data_list,dirs)\n",
        "    tiles = countUniqueTiles(pos_list)\n",
        "    if tiles > max_tiles:\n",
        "      max_tiles = tiles\n",
        "\n",
        "max_tiles"
      ],
      "metadata": {
        "colab": {
          "base_uri": "https://localhost:8080/"
        },
        "id": "k4QmfWAn8U5Z",
        "outputId": "69f03620-14b5-4441-e4db-c0e9fa4cc8c2"
      },
      "execution_count": 79,
      "outputs": [
        {
          "output_type": "execute_result",
          "data": {
            "text/plain": [
              "7932"
            ]
          },
          "metadata": {},
          "execution_count": 79
        }
      ]
    }
  ]
}