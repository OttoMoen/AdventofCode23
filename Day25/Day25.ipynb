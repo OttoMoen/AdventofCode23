{
  "nbformat": 4,
  "nbformat_minor": 0,
  "metadata": {
    "colab": {
      "provenance": []
    },
    "kernelspec": {
      "name": "python3",
      "display_name": "Python 3"
    },
    "language_info": {
      "name": "python"
    }
  },
  "cells": [
    {
      "cell_type": "markdown",
      "source": [
        "# Advent of Code 2023: Day 25\n",
        "https://adventofcode.com/2023/day/25\n"
      ],
      "metadata": {
        "id": "e7qDcWW3JF8G"
      }
    },
    {
      "cell_type": "markdown",
      "source": [
        "## Part 1\n",
        "Find which three edges can be cut to separate a graph into two"
      ],
      "metadata": {
        "id": "krtSVL3uJOQC"
      }
    },
    {
      "cell_type": "markdown",
      "source": [
        "### Get the data into a dictionary of strings"
      ],
      "metadata": {
        "id": "Jc2_NXw63k49"
      }
    },
    {
      "cell_type": "code",
      "source": [
        "myfile = open('input.txt', 'r')\n",
        "data = myfile.read()\n",
        "data_list = data.split('\\n')\n",
        "data_dict = {}\n",
        "for line in data_list:\n",
        "  l_split = line.split(':')\n",
        "  data_dict[l_split[0]] = l_split[1].split(' ')[1:]"
      ],
      "metadata": {
        "id": "xQfXHvPiJQrT"
      },
      "execution_count": 1,
      "outputs": []
    },
    {
      "cell_type": "markdown",
      "source": [
        "### Use the **nx** module to model a graph\n",
        "\n",
        "Use the __k_edge_components__ function with **k=4** to divide the graph into two. Multiple the number of nodes in each graph."
      ],
      "metadata": {
        "id": "32JqpjZCdObj"
      }
    },
    {
      "cell_type": "code",
      "source": [
        "import networkx as nx\n",
        "\n",
        "G = nx.Graph(data_dict)\n",
        "res = sorted(map(sorted, nx.k_edge_components(G, k=4)))\n",
        "len(res[0])*len(res[1])"
      ],
      "metadata": {
        "colab": {
          "base_uri": "https://localhost:8080/"
        },
        "id": "JIqNmrzccPHL",
        "outputId": "074df3b5-4913-4caf-98ec-50a1d99f5b50"
      },
      "execution_count": 2,
      "outputs": [
        {
          "output_type": "execute_result",
          "data": {
            "text/plain": [
              "562772"
            ]
          },
          "metadata": {},
          "execution_count": 2
        }
      ]
    }
  ]
}
