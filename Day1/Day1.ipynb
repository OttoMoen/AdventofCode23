{
  "nbformat": 4,
  "nbformat_minor": 0,
  "metadata": {
    "colab": {
      "provenance": []
    },
    "kernelspec": {
      "name": "python3",
      "display_name": "Python 3"
    },
    "language_info": {
      "name": "python"
    }
  },
  "cells": [
    {
      "cell_type": "markdown",
      "source": [
        "# Advent of Code 2023: Day 1\n",
        "https://adventofcode.com/2023/day/1"
      ],
      "metadata": {
        "id": "o-tNSVNuvVMb"
      }
    },
    {
      "cell_type": "markdown",
      "source": [
        "## Part 1\n",
        "Combine the first and final digit of each line to form a number and sum up every number."
      ],
      "metadata": {
        "id": "HRH2W_Oex_I8"
      }
    },
    {
      "cell_type": "markdown",
      "source": [
        "### Get the data into a list of strings"
      ],
      "metadata": {
        "id": "sTS_qGN4vfcK"
      }
    },
    {
      "cell_type": "code",
      "execution_count": 83,
      "metadata": {
        "id": "ZvJTK9GRqIQ6"
      },
      "outputs": [],
      "source": [
        "myfile = open('input.txt', 'r')\n",
        "data = myfile.read()"
      ]
    },
    {
      "cell_type": "code",
      "source": [
        "data_list = data.replace('\\n', ' ').split(\" \")\n",
        "#print(data_list)"
      ],
      "metadata": {
        "id": "v1fazA76saEk"
      },
      "execution_count": 84,
      "outputs": []
    },
    {
      "cell_type": "markdown",
      "source": [
        "### Create function to find the first and last digits, combining them, and transforming them into an integer."
      ],
      "metadata": {
        "id": "mQde5kU9wloX"
      }
    },
    {
      "cell_type": "code",
      "source": [
        "def findFirstDigit(word):\n",
        "  word_list = list(word)\n",
        "  for char in word_list:\n",
        "    if char.isdigit() == True:\n",
        "      return char\n",
        "\n",
        "def findLastDigit(word):\n",
        "  word_list = list(word)\n",
        "  for i in range(len(word_list)-1, -1, -1):\n",
        "    if word_list[i].isdigit() == True:\n",
        "      return word_list[i]"
      ],
      "metadata": {
        "id": "FV4n6CgAxX-C"
      },
      "execution_count": 48,
      "outputs": []
    },
    {
      "cell_type": "code",
      "source": [
        "def findNumber(word):\n",
        "  digit_str = findFirstDigit(word) + findLastDigit(word)\n",
        "  return int(digit_str)"
      ],
      "metadata": {
        "id": "nYqMP9Lz0Gki"
      },
      "execution_count": 41,
      "outputs": []
    },
    {
      "cell_type": "markdown",
      "source": [
        "### Calculate the sum\n",
        "\n"
      ],
      "metadata": {
        "id": "LKAhKzTa1XpE"
      }
    },
    {
      "cell_type": "code",
      "source": [
        "res_list = []\n",
        "for i in range(len(data_list)):\n",
        "  res_list.append(findNumber(data_list[i]))\n",
        "\n",
        "sum(res_list)"
      ],
      "metadata": {
        "colab": {
          "base_uri": "https://localhost:8080/"
        },
        "id": "7oKrovcO0QR_",
        "outputId": "dd786ea6-101d-455a-c484-e829e776b5f3"
      },
      "execution_count": 51,
      "outputs": [
        {
          "output_type": "execute_result",
          "data": {
            "text/plain": [
              "54390"
            ]
          },
          "metadata": {},
          "execution_count": 51
        }
      ]
    },
    {
      "cell_type": "markdown",
      "source": [
        "## Part 2\n",
        "Same problem, but numbers 1-9 spelled out with letters, i.e. 'one', also count as digits.\n",
        "\n"
      ],
      "metadata": {
        "id": "By2sxieW2tgf"
      }
    },
    {
      "cell_type": "code",
      "source": [
        "def findNumberPlus(word):\n",
        "  search_list = [\"1\", \"2\", \"3\", \"4\", \"5\", \"6\", \"7\", \"8\", \"9\", \"one\", \"two\", \"three\", \"four\", \"five\", \"six\", \"seven\", \"eight\", \"nine\"]\n",
        "  res_list = []\n",
        "  res_list_r = []\n",
        "  for i in search_list:\n",
        "    res_list.append(word.find(i))\n",
        "    res_list_r.append(word.rfind(i))\n",
        "  first_ind = res_list.index(min([i for i in res_list if i >= 0])) % 9\n",
        "  if max(res_list) >= max(res_list_r):\n",
        "    last_ind =  res_list.index(max(res_list)) % 9\n",
        "  else:\n",
        "    last_ind = res_list_r.index(max(res_list_r)) % 9\n",
        "  digit_str = search_list[first_ind] + search_list[last_ind]\n",
        "  return int(digit_str)"
      ],
      "metadata": {
        "id": "hJYOtHhf4cUV"
      },
      "execution_count": 89,
      "outputs": []
    },
    {
      "cell_type": "markdown",
      "source": [
        "### Calculate the sum"
      ],
      "metadata": {
        "id": "-TvqNmLpTP_O"
      }
    },
    {
      "cell_type": "code",
      "source": [
        "res_list = []\n",
        "for i in range(len(data_list)):\n",
        "  res_list.append(findNumberPlus(data_list[i]))\n",
        "\n",
        "sum(res_list)"
      ],
      "metadata": {
        "colab": {
          "base_uri": "https://localhost:8080/"
        },
        "id": "Yk3yeO5o2vRv",
        "outputId": "d30c4c67-d0f7-496a-d86c-ff0328c16f27"
      },
      "execution_count": 90,
      "outputs": [
        {
          "output_type": "execute_result",
          "data": {
            "text/plain": [
              "54277"
            ]
          },
          "metadata": {},
          "execution_count": 90
        }
      ]
    }
  ]
}