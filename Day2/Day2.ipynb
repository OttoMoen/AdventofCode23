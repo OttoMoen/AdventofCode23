{
  "nbformat": 4,
  "nbformat_minor": 0,
  "metadata": {
    "colab": {
      "provenance": []
    },
    "kernelspec": {
      "name": "python3",
      "display_name": "Python 3"
    },
    "language_info": {
      "name": "python"
    }
  },
  "cells": [
    {
      "cell_type": "markdown",
      "source": [
        "# Advent of Code 2023: Day 2\n",
        "https://adventofcode.com/2023/day/2\n"
      ],
      "metadata": {
        "id": "e7qDcWW3JF8G"
      }
    },
    {
      "cell_type": "markdown",
      "source": [
        "## Part 1\n",
        "\n",
        "Sum the IDs of possible games"
      ],
      "metadata": {
        "id": "krtSVL3uJOQC"
      }
    },
    {
      "cell_type": "markdown",
      "source": [
        "### Get the data into a list of strings"
      ],
      "metadata": {
        "id": "qSHolakPWW5I"
      }
    },
    {
      "cell_type": "code",
      "source": [
        "myfile = open('input.txt', 'r')\n",
        "data = myfile.read()\n",
        "data_list = data.split('\\n')"
      ],
      "metadata": {
        "id": "xQfXHvPiJQrT"
      },
      "execution_count": 26,
      "outputs": []
    },
    {
      "cell_type": "markdown",
      "source": [
        "### Set up given maximum of each color\n",
        "\n"
      ],
      "metadata": {
        "id": "_NhuPVG3zoHt"
      }
    },
    {
      "cell_type": "code",
      "source": [
        "max_cubes = {'red': 12, 'green': 13, 'blue': 14}"
      ],
      "metadata": {
        "id": "dDi0iU3yukXC"
      },
      "execution_count": 27,
      "outputs": []
    },
    {
      "cell_type": "markdown",
      "source": [
        "### Set up a function to find the largest amount of a given color"
      ],
      "metadata": {
        "id": "guDJPbFCzumX"
      }
    },
    {
      "cell_type": "code",
      "source": [
        "def getMax(string, color):\n",
        "  inds = [index for index in range(len(string) - len(color) + 1) if string[index:].startswith(color)]\n",
        "  max = 0\n",
        "  for i in inds:\n",
        "    n = int(string[(i-3):(i-1)])\n",
        "    if n > max:\n",
        "      max = n\n",
        "  return max"
      ],
      "metadata": {
        "id": "v6mM0vGPvVzt"
      },
      "execution_count": 28,
      "outputs": []
    },
    {
      "cell_type": "markdown",
      "source": [
        "### Calculate the sum of possible game IDs"
      ],
      "metadata": {
        "id": "O1ibG6vCzz_Q"
      }
    },
    {
      "cell_type": "code",
      "source": [
        "result = []\n",
        "for i in range(len(data_list)):\n",
        "  red = getMax(data_list[i], \"red\")\n",
        "  green = getMax(data_list[i], \"green\")\n",
        "  blue = getMax(data_list[i], \"blue\")\n",
        "  if red > max_cubes['red'] or green > max_cubes['green'] or blue > max_cubes['blue']:\n",
        "    continue\n",
        "  else:\n",
        "    result.append(i+1)\n",
        "sum(result)"
      ],
      "metadata": {
        "colab": {
          "base_uri": "https://localhost:8080/"
        },
        "id": "iT-mjsmgxi38",
        "outputId": "ed2eb88e-be3d-477b-cdd2-2a045ba2a102"
      },
      "execution_count": 29,
      "outputs": [
        {
          "output_type": "execute_result",
          "data": {
            "text/plain": [
              "2268"
            ]
          },
          "metadata": {},
          "execution_count": 29
        }
      ]
    },
    {
      "cell_type": "markdown",
      "source": [
        "## Part 2\n",
        "\n",
        "Calculate the sum of the power for the minimum set of cubes required for each game."
      ],
      "metadata": {
        "id": "10xNnYANzkpN"
      }
    },
    {
      "cell_type": "code",
      "source": [
        "result = []\n",
        "for i in range(len(data_list)):\n",
        "  red = getMax(data_list[i], \"red\")\n",
        "  green = getMax(data_list[i], \"green\")\n",
        "  blue = getMax(data_list[i], \"blue\")\n",
        "  result.append(red*green*blue)\n",
        "sum(result)"
      ],
      "metadata": {
        "colab": {
          "base_uri": "https://localhost:8080/"
        },
        "id": "VufkVt2rzl09",
        "outputId": "8702783f-96ae-4ff5-c7e9-1279d56722c9"
      },
      "execution_count": 30,
      "outputs": [
        {
          "output_type": "execute_result",
          "data": {
            "text/plain": [
              "63542"
            ]
          },
          "metadata": {},
          "execution_count": 30
        }
      ]
    }
  ]
}