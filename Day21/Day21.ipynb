{
 "cells": [
  {
   "cell_type": "markdown",
   "metadata": {
    "id": "e7qDcWW3JF8G"
   },
   "source": [
    "# Advent of Code 2023: Day 21\n",
    "https://adventofcode.com/2023/day/21\n"
   ]
  },
  {
   "cell_type": "markdown",
   "metadata": {
    "id": "krtSVL3uJOQC"
   },
   "source": [
    "## Part 1\n",
    "Find the number of tiles where one can stand after walking exactly 64 steps"
   ]
  },
  {
   "cell_type": "markdown",
   "metadata": {
    "id": "Jc2_NXw63k49"
   },
   "source": [
    "### Get the data into a list of strings"
   ]
  },
  {
   "cell_type": "code",
   "execution_count": 1,
   "metadata": {
    "id": "xQfXHvPiJQrT"
   },
   "outputs": [],
   "source": [
    "myfile = open('input.txt', 'r')\n",
    "data = myfile.read()\n",
    "data_list = data.split('\\n')\n",
    "data_map = []\n",
    "for line in data_list:\n",
    "  row = []\n",
    "  for char in line:\n",
    "    row.append(char)\n",
    "  data_map.append(row)"
   ]
  },
  {
   "cell_type": "markdown",
   "metadata": {},
   "source": [
    "### Create function to find the starting location"
   ]
  },
  {
   "cell_type": "code",
   "execution_count": 2,
   "metadata": {
    "id": "yqE83UbtSZBW"
   },
   "outputs": [],
   "source": [
    "def findStart(symbol):\n",
    "  s = False\n",
    "  for i in range(len(data_map)):\n",
    "    for j in range(len(data_map[0])):\n",
    "      if data_map[i][j] == symbol:\n",
    "        s = [i,j]\n",
    "        break\n",
    "    if s:\n",
    "      break\n",
    "  return s"
   ]
  },
  {
   "cell_type": "markdown",
   "metadata": {},
   "source": [
    "### Create function to retrieve the valid neighbors of a location"
   ]
  },
  {
   "cell_type": "code",
   "execution_count": 3,
   "metadata": {
    "id": "6-dpf2ehZOJK"
   },
   "outputs": [],
   "source": [
    "def getNeighbors(pos, data, m_steps):\n",
    "  nrows = len(data)\n",
    "  ncols = len(data[0])\n",
    "  row = pos[0][0]\n",
    "  col = pos[0][1]\n",
    "  steps = pos[1]\n",
    "  neighbors = []\n",
    "  if steps == m_steps:\n",
    "    return neighbors\n",
    "\n",
    "  if (data[(row-1)%nrows][col%ncols] != '#'):\n",
    "    neighbors.append([[row-1, col], steps+1])\n",
    "  if (data[(row+1)%nrows][col%ncols] != '#'):\n",
    "    neighbors.append([[row+1, col], steps+1])\n",
    "  if (data[row%nrows][(col-1)%ncols] != '#'):\n",
    "    neighbors.append([[row, col-1], steps+1])\n",
    "  if (data[row%nrows][(col+1)%ncols] != '#'):\n",
    "    neighbors.append([[row, col+1], steps+1])\n",
    "  return neighbors"
   ]
  },
  {
   "cell_type": "markdown",
   "metadata": {},
   "source": [
    "### Create function to find the number of possible location after walking a given number of steps"
   ]
  },
  {
   "cell_type": "code",
   "execution_count": 4,
   "metadata": {
    "id": "gpEKiYPgUQ1i"
   },
   "outputs": [],
   "source": [
    "def shortestPath(start, data, m_steps, odd):\n",
    "  explore_q = [start]\n",
    "  visited = set(str(start[0]))\n",
    "  total = 0\n",
    "  while explore_q:\n",
    "    cur = explore_q.pop(0)\n",
    "    neighbors = getNeighbors(cur, data, m_steps)\n",
    "    for neighbor in neighbors:\n",
    "      if str(neighbor[0]) not in visited:\n",
    "        visited.add(str(neighbor[0]))\n",
    "        explore_q.append(neighbor)\n",
    "        if (neighbor[1]%2) == odd:\n",
    "          total +=1\n",
    "  return total"
   ]
  },
  {
   "cell_type": "markdown",
   "metadata": {},
   "source": [
    "### Calculate the number of possible locations"
   ]
  },
  {
   "cell_type": "code",
   "execution_count": 5,
   "metadata": {
    "colab": {
     "base_uri": "https://localhost:8080/"
    },
    "id": "J9ElL_gdVug0",
    "outputId": "b36597fc-ba11-448c-804b-a1bb3b4a5906"
   },
   "outputs": [
    {
     "data": {
      "text/plain": [
       "3660"
      ]
     },
     "execution_count": 5,
     "metadata": {},
     "output_type": "execute_result"
    }
   ],
   "source": [
    "start = findStart('S')\n",
    "start = [start, 0]\n",
    "steps = 64\n",
    "shortestPath(start, data_map, steps, steps%2)"
   ]
  },
  {
   "cell_type": "markdown",
   "metadata": {
    "id": "yiKeMv3lJPM_"
   },
   "source": [
    "## Part 2\n",
    "Find the number of tiles where one can stand after walking exactly 26501365 steps"
   ]
  },
  {
   "cell_type": "code",
   "execution_count": 6,
   "metadata": {
    "colab": {
     "base_uri": "https://localhost:8080/"
    },
    "id": "luyIKnibwn2P",
    "outputId": "7fbd20c0-47c0-49e6-db88-3ead038ecaf9"
   },
   "outputs": [],
   "source": [
    "steps = 26501365\n",
    "nrows = len(data_map)\n",
    "mod = steps % nrows\n",
    "\n",
    "y0 = shortestPath(start, data_map, mod, mod%2)\n",
    "y1 = shortestPath(start, data_map, mod+nrows, (mod+nrows)%2)\n",
    "y2 = shortestPath(start, data_map, mod+2*nrows, (mod+2*nrows)%2)\n",
    "\n",
    "x = steps // nrows\n",
    "import numpy as np\n",
    "x = steps // nrows\n",
    "f = np.polyfit([0,1,2],[y0,y1,y2], 2)\n",
    "round(np.poly1d(f)(x))"
   ]
  },
  {
   "cell_type": "code",
   "execution_count": 7,
   "metadata": {
    "colab": {
     "base_uri": "https://localhost:8080/"
    },
    "id": "ZpJ4FP-Z8GgQ",
    "outputId": "21ef35b1-86a9-44ce-b0bb-10864050568c"
   },
   "outputs": [
    {
     "data": {
      "text/plain": [
       "605492675373144"
      ]
     },
     "execution_count": 7,
     "metadata": {},
     "output_type": "execute_result"
    }
   ],
   "source": [
    "import numpy as np\n",
    "x = steps // nrows\n",
    "f = np.polyfit([0,1,2],[y0,y1,y2], 2)\n",
    "round(np.poly1d(f)(x))"
   ]
  }
 ],
 "metadata": {
  "colab": {
   "provenance": []
  },
  "kernelspec": {
   "display_name": "Python 3 (ipykernel)",
   "language": "python",
   "name": "python3"
  },
  "language_info": {
   "codemirror_mode": {
    "name": "ipython",
    "version": 3
   },
   "file_extension": ".py",
   "mimetype": "text/x-python",
   "name": "python",
   "nbconvert_exporter": "python",
   "pygments_lexer": "ipython3",
   "version": "3.9.7"
  }
 },
 "nbformat": 4,
 "nbformat_minor": 1
}
