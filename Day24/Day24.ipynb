{
  "nbformat": 4,
  "nbformat_minor": 0,
  "metadata": {
    "colab": {
      "provenance": []
    },
    "kernelspec": {
      "name": "python3",
      "display_name": "Python 3"
    },
    "language_info": {
      "name": "python"
    }
  },
  "cells": [
    {
      "cell_type": "markdown",
      "source": [
        "# Advent of Code 2023: Day 24\n",
        "https://adventofcode.com/2023/day/24\n"
      ],
      "metadata": {
        "id": "e7qDcWW3JF8G"
      }
    },
    {
      "cell_type": "markdown",
      "source": [
        "## Part 1\n",
        "Find how many paths will cross in the test area, only X and Y coordinates"
      ],
      "metadata": {
        "id": "krtSVL3uJOQC"
      }
    },
    {
      "cell_type": "markdown",
      "source": [
        "### Get the data into a list of lists of tuples"
      ],
      "metadata": {
        "id": "Jc2_NXw63k49"
      }
    },
    {
      "cell_type": "code",
      "source": [
        "myfile = open('input.txt', 'r')\n",
        "data = myfile.read()\n",
        "data_list = data.split('\\n')\n",
        "data_list = [[tuple(map(int, x.split(', '))) for x in line.split(' @ ')] for line in data_list]"
      ],
      "metadata": {
        "id": "xQfXHvPiJQrT"
      },
      "execution_count": 1,
      "outputs": []
    },
    {
      "cell_type": "markdown",
      "source": [
        "### Create function to return the parameters of a line from a given position and velocity\n",
        "Return **a** and **b** from the equation **y=ax+b**"
      ],
      "metadata": {
        "id": "Q2K_7eEjh2QU"
      }
    },
    {
      "cell_type": "code",
      "source": [
        "def getLine(pos, vel):\n",
        "  a = vel[1]/vel[0]\n",
        "  b = pos[1] - a*pos[0]\n",
        "  return a,b"
      ],
      "metadata": {
        "id": "4I6sem48De4p"
      },
      "execution_count": 2,
      "outputs": []
    },
    {
      "cell_type": "markdown",
      "source": [
        "### Create function to return the position where two lines intersect, if they do"
      ],
      "metadata": {
        "id": "bq_SQ-VLiGPa"
      }
    },
    {
      "cell_type": "code",
      "source": [
        "def getIntersection(line1, line2):\n",
        "  left = line1[0] - line2[0]\n",
        "  right = line2[1] - line1[1]\n",
        "  if left == 0:\n",
        "    return None, None\n",
        "  x = right / left\n",
        "  y = line1[0]*x + line1[1]\n",
        "  return x,y"
      ],
      "metadata": {
        "id": "y-fUzB8ND0NQ"
      },
      "execution_count": 3,
      "outputs": []
    },
    {
      "cell_type": "markdown",
      "source": [
        "### Create function to check if an intersection occurs within the valid area and forward in time from the initial positions"
      ],
      "metadata": {
        "id": "etl1PfIyiLS_"
      }
    },
    {
      "cell_type": "code",
      "source": [
        "def validIntersection(x,y,lower,upper, pos1, vel1, pos2, vel2):\n",
        "  if x is None and y is None:\n",
        "    return False\n",
        "  check1 = False\n",
        "  check2 = False\n",
        "  if (x >= lower) and (x <= upper) and (y >= lower) and(y <= upper):\n",
        "    if vel1[0] < 0:\n",
        "      if x < pos1[0]:\n",
        "        check1 = True\n",
        "    elif vel1[0] > 0:\n",
        "      if x > pos1[0]:\n",
        "        check1 = True\n",
        "    else:\n",
        "      if x == pos1[0]:\n",
        "        check1 = True\n",
        "    if vel2[0] < 0:\n",
        "      if x < pos2[0]:\n",
        "        check2 = True\n",
        "    elif vel2[0] > 0:\n",
        "      if x > pos2[0]:\n",
        "        check2 = True\n",
        "    else:\n",
        "      if x == pos2[0]:\n",
        "        check2 = True\n",
        "  if check1 and check2:\n",
        "    return True\n",
        "  return False"
      ],
      "metadata": {
        "id": "9h6oIIHrFPNG"
      },
      "execution_count": 4,
      "outputs": []
    },
    {
      "cell_type": "markdown",
      "source": [
        "### Create function to count valid intersections"
      ],
      "metadata": {
        "id": "WDKjhEhTiYNQ"
      }
    },
    {
      "cell_type": "code",
      "source": [
        "def countIntersections(data, lower, upper):\n",
        "  valids = 0\n",
        "  for i, p1 in enumerate(data[:-1]):\n",
        "    line1 = getLine(p1[0], p1[1])\n",
        "    for p2 in data[i+1:]:\n",
        "      line2 = getLine(p2[0],p2[1])\n",
        "      x, y = getIntersection(line1, line2)\n",
        "      if validIntersection(x,y,lower,upper, p1[0],p1[1],p2[0],p2[1]):\n",
        "        valids += 1\n",
        "  return valids"
      ],
      "metadata": {
        "id": "LI5LjDB_HJnK"
      },
      "execution_count": 5,
      "outputs": []
    },
    {
      "cell_type": "markdown",
      "source": [
        "### Count valid intersections"
      ],
      "metadata": {
        "id": "9_c7GbOeibNh"
      }
    },
    {
      "cell_type": "code",
      "source": [
        "l = 200000000000000\n",
        "u = 400000000000000\n",
        "countIntersections(data_list, l, u)"
      ],
      "metadata": {
        "colab": {
          "base_uri": "https://localhost:8080/"
        },
        "id": "7V3qfOLM654l",
        "outputId": "cdd8c2ed-68f0-4451-b71b-fa5ea5eba26b"
      },
      "execution_count": 6,
      "outputs": [
        {
          "output_type": "execute_result",
          "data": {
            "text/plain": [
              "21679"
            ]
          },
          "metadata": {},
          "execution_count": 6
        }
      ]
    },
    {
      "cell_type": "markdown",
      "source": [
        "## Part 2\n",
        "Find the starting position of an object that will collide with every other object, using X, Y, and Z coordinates"
      ],
      "metadata": {
        "id": "yiKeMv3lJPM_"
      }
    },
    {
      "cell_type": "markdown",
      "source": [
        "### Use the Z3 solver\n",
        "\n",
        "Give it the 6 parameters that need to found (starting positions and velocities). For each object in the data, give it an individual time parameter (as the object can colide with the objects in the data at different times).\n",
        "\n",
        "Then add the constraints for each object in the data, such that there must be some time point _t_ where our object will collide with it."
      ],
      "metadata": {
        "id": "CKC4pOLhig6H"
      }
    },
    {
      "cell_type": "code",
      "source": [
        "from z3 import *\n",
        "\n",
        "x, y, z, xv, yv, zv = Reals('x y z xv yv zv')\n",
        "t = []\n",
        "s = Solver()\n",
        "for i, line in enumerate(data_list):\n",
        "  p,v = line\n",
        "  t.append(Real('t'+str(i)))\n",
        "  s.add(x + xv*t[i] == p[0]+v[0]*t[i])\n",
        "  s.add(y + yv*t[i] == p[1]+v[1]*t[i])\n",
        "  s.add(z + zv*t[i] == p[2]+v[2]*t[i])\n",
        "s.check()\n",
        "model = s.model()\n",
        "\n",
        "model.evaluate(x+y+z)"
      ],
      "metadata": {
        "colab": {
          "base_uri": "https://localhost:8080/",
          "height": 34
        },
        "id": "G29vvHRrRQmp",
        "outputId": "901ddf7d-1319-409f-e6c4-9240064ed44b"
      },
      "execution_count": 7,
      "outputs": [
        {
          "output_type": "execute_result",
          "data": {
            "text/plain": [
              "566914635762564"
            ],
            "text/html": [
              "566914635762564"
            ]
          },
          "metadata": {},
          "execution_count": 7
        }
      ]
    }
  ]
}