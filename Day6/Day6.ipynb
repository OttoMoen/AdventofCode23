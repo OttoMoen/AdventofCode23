{
  "nbformat": 4,
  "nbformat_minor": 0,
  "metadata": {
    "colab": {
      "provenance": []
    },
    "kernelspec": {
      "name": "python3",
      "display_name": "Python 3"
    },
    "language_info": {
      "name": "python"
    }
  },
  "cells": [
    {
      "cell_type": "markdown",
      "source": [
        "# Advent of Code 2023: Day 6\n",
        "https://adventofcode.com/2023/day/6\n"
      ],
      "metadata": {
        "id": "e7qDcWW3JF8G"
      }
    },
    {
      "cell_type": "markdown",
      "source": [
        "## Part 1\n",
        "Calculate how many ways there are to beat the record time in each race."
      ],
      "metadata": {
        "id": "krtSVL3uJOQC"
      }
    },
    {
      "cell_type": "markdown",
      "source": [
        "### Get the data into a list of lists of integers"
      ],
      "metadata": {
        "id": "Jc2_NXw63k49"
      }
    },
    {
      "cell_type": "code",
      "source": [
        "myfile = open('input.txt', 'r')\n",
        "data = myfile.read()\n",
        "data_list = data.split('\\n')\n",
        "data = []\n",
        "data.append(list(map(int, list(filter(None, data_list[0].split(' ')))[1:])))\n",
        "data.append(list(map(int, list(filter(None, data_list[1].split(' ')))[1:])))"
      ],
      "metadata": {
        "id": "xQfXHvPiJQrT"
      },
      "execution_count": 25,
      "outputs": []
    },
    {
      "cell_type": "markdown",
      "source": [
        "### Calculate the product of the number of ways to break the record for each race\n",
        "\n",
        "As this function is concave, it only has to be explored until it exists the area where the records are being beat"
      ],
      "metadata": {
        "id": "uOZqAxeh7OIH"
      }
    },
    {
      "cell_type": "code",
      "source": [
        "result = 1\n",
        "for i, racetime in enumerate(data[0]):\n",
        "  in_zone = False\n",
        "  beat_record = 0\n",
        "  for j in range(racetime):\n",
        "    d = j*(racetime-j)\n",
        "    if d > data[1][i]:\n",
        "      beat_record += 1\n",
        "      in_zone = True\n",
        "    elif in_zone == True:\n",
        "      result = result * beat_record\n",
        "      break\n",
        "\n",
        "result"
      ],
      "metadata": {
        "colab": {
          "base_uri": "https://localhost:8080/"
        },
        "id": "qxHhPtlb5WXb",
        "outputId": "6e9074c8-27e5-422e-8643-6d96089c494b"
      },
      "execution_count": 28,
      "outputs": [
        {
          "output_type": "execute_result",
          "data": {
            "text/plain": [
              "220320"
            ]
          },
          "metadata": {},
          "execution_count": 28
        }
      ]
    },
    {
      "cell_type": "markdown",
      "source": [
        "## Part 2\n",
        "Calculate how many ways there are to beat the record time in each race, with new input data."
      ],
      "metadata": {
        "id": "3Lrn7gih7AJY"
      }
    },
    {
      "cell_type": "markdown",
      "source": [
        "### Modify the data to be in the correct shape"
      ],
      "metadata": {
        "id": "U3B_4lquJvzo"
      }
    },
    {
      "cell_type": "code",
      "source": [
        "data_list = []\n",
        "for i in data:\n",
        "  data_list.append(int(''.join(list(map(str,i)))))"
      ],
      "metadata": {
        "id": "iHQAp04C8PER"
      },
      "execution_count": 37,
      "outputs": []
    },
    {
      "cell_type": "markdown",
      "source": [
        "### Define function to perform the 'complete the square' operation.\n",
        "Looping would take a long time, instead calculate the borders of the region where the race record will be broken."
      ],
      "metadata": {
        "id": "htrR_BSfJ0Xh"
      }
    },
    {
      "cell_type": "code",
      "source": [
        "def complete_square(a, b, c):\n",
        "  result = []\n",
        "  right = -c + (-b*0.5)**2\n",
        "  result.append((b/2)-(right**0.5))\n",
        "  result.append((b/2)+(right**0.5))\n",
        "  return result"
      ],
      "metadata": {
        "id": "3OknNmsnEYjn"
      },
      "execution_count": 54,
      "outputs": []
    },
    {
      "cell_type": "markdown",
      "source": [
        "### Calculate the number of ways to beat the record\n",
        "\n",
        "Works for example without the '-1', but off by one for the real data, not sure why."
      ],
      "metadata": {
        "id": "zomiQ4woKFZp"
      }
    },
    {
      "cell_type": "code",
      "source": [
        "result = complete_square(-1,data_list[0],data_list[1])\n",
        "round(result[1]-result[0])-1"
      ],
      "metadata": {
        "colab": {
          "base_uri": "https://localhost:8080/"
        },
        "id": "fAV41dSXG_qA",
        "outputId": "93d38566-3f42-4167-f654-079dac05ac5e"
      },
      "execution_count": 60,
      "outputs": [
        {
          "output_type": "execute_result",
          "data": {
            "text/plain": [
              "34454850"
            ]
          },
          "metadata": {},
          "execution_count": 60
        }
      ]
    }
  ]
}