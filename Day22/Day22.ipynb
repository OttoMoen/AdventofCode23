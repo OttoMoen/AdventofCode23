{
  "nbformat": 4,
  "nbformat_minor": 0,
  "metadata": {
    "colab": {
      "provenance": []
    },
    "kernelspec": {
      "name": "python3",
      "display_name": "Python 3"
    },
    "language_info": {
      "name": "python"
    }
  },
  "cells": [
    {
      "cell_type": "markdown",
      "source": [
        "# Advent of Code 2023: Day 22\n",
        "https://adventofcode.com/2023/day/22\n"
      ],
      "metadata": {
        "id": "e7qDcWW3JF8G"
      }
    },
    {
      "cell_type": "markdown",
      "source": [
        "## Part 1\n",
        "Count the number of 3d blocks that can be removed without causing another to fall"
      ],
      "metadata": {
        "id": "krtSVL3uJOQC"
      }
    },
    {
      "cell_type": "markdown",
      "source": [
        "### Get the data into a list of lists of strings"
      ],
      "metadata": {
        "id": "Jc2_NXw63k49"
      }
    },
    {
      "cell_type": "code",
      "source": [
        "myfile = open('input.txt', 'r')\n",
        "data = myfile.read()\n",
        "data_list = data.split('\\n')\n",
        "data_list = [[list(map(int, s.split(','))) for s in line.split('~')]\n",
        "             for line in data_list]\n",
        "data_list = sorted(data_list, key=lambda l: l[0][2])"
      ],
      "metadata": {
        "id": "xQfXHvPiJQrT"
      },
      "execution_count": 1,
      "outputs": []
    },
    {
      "cell_type": "markdown",
      "source": [
        "### Create function to drop each block as far as possible\n",
        "Return a dictionary which tracks which blocks (value) a single block (key) has on top of it."
      ],
      "metadata": {
        "id": "GnqQg_5GfaeB"
      }
    },
    {
      "cell_type": "code",
      "source": [
        "def dropBlocks(data):\n",
        "  on_top = {}\n",
        "  z = {}\n",
        "  for i, block in enumerate(data):\n",
        "    while block[0][2] > 0:\n",
        "      if block[0][2] == 1:\n",
        "        on_top[str(block)] = set()\n",
        "        for j in range(1, block[1][2]+1):\n",
        "          if z.get(j):\n",
        "            z[j].append(block)\n",
        "          else:\n",
        "            z[j] = [block]\n",
        "        break\n",
        "      else:\n",
        "        x = range(block[0][0],block[1][0]+1)\n",
        "        y = range(block[0][1],block[1][1]+1)\n",
        "        level = z.get(block[0][2]-1)\n",
        "        if level:\n",
        "          empty = True\n",
        "          for j in x:\n",
        "            for l in y:\n",
        "              for cell in level:\n",
        "                if (j >= cell[0][0] and j <= cell[1][0]) and (l >= cell[0][1] and l <= cell[1][1]):\n",
        "                  on_top[str(cell)].add(str(block))\n",
        "                  empty = False\n",
        "          if empty:\n",
        "            block[0][2] -= 1\n",
        "            block[1][2] -= 1\n",
        "          else:\n",
        "            on_top[str(block)] = set()\n",
        "            for j in range(block[0][2], block[1][2]+1):\n",
        "              if z.get(j):\n",
        "                z[j].append(block)\n",
        "              else:\n",
        "                z[j] = [block]\n",
        "            break\n",
        "        else:\n",
        "          block[0][2] -= 1\n",
        "          block[1][2] -= 1\n",
        "  return on_top"
      ],
      "metadata": {
        "id": "jFJBIaWaWEhX"
      },
      "execution_count": 2,
      "outputs": []
    },
    {
      "cell_type": "markdown",
      "source": [
        "### Create function to check how many blocks can be removed, individually, without causing any other block to fall\n",
        "\n",
        "Also return the _below_ dictionary, which is an inversion of the input dictionary, for future use."
      ],
      "metadata": {
        "id": "2voZPwN_fu8Q"
      }
    },
    {
      "cell_type": "code",
      "source": [
        "def checkRemovable(on_dict):\n",
        "  below = {}\n",
        "  d = set()\n",
        "  singles = []\n",
        "  for key, value in on_dict.items():\n",
        "    if not value:\n",
        "      d.add(key)\n",
        "    else:\n",
        "      for v in value:\n",
        "        if below.get(v):\n",
        "          below[v].add(key)\n",
        "        else:\n",
        "          below[v] = set([key])\n",
        "  for key, value in below.items():\n",
        "    if len(value) == 1:\n",
        "      singles.append(list(value)[0])\n",
        "  for key, value in below.items():\n",
        "    if len(value) > 1:\n",
        "      for v in value:\n",
        "        if v not in singles:\n",
        "          d.add(v)\n",
        "  return len(d), below"
      ],
      "metadata": {
        "id": "wmnBoiU3z3eD"
      },
      "execution_count": 3,
      "outputs": []
    },
    {
      "cell_type": "markdown",
      "source": [
        "### Count removable blocks"
      ],
      "metadata": {
        "id": "4Y-k-I8yf9E5"
      }
    },
    {
      "cell_type": "code",
      "source": [
        "on_top = dropBlocks(data_list)\n",
        "removable, below = checkRemovable(on_top)\n",
        "removable"
      ],
      "metadata": {
        "colab": {
          "base_uri": "https://localhost:8080/"
        },
        "id": "i0UjsJKP1LJ6",
        "outputId": "7f0481f2-39ff-47d7-d8ce-ceb048fe68d4"
      },
      "execution_count": 4,
      "outputs": [
        {
          "output_type": "execute_result",
          "data": {
            "text/plain": [
              "488"
            ]
          },
          "metadata": {},
          "execution_count": 4
        }
      ]
    },
    {
      "cell_type": "markdown",
      "source": [
        "## Part 2\n",
        "For each block, check how many blocks would fall if it were removed"
      ],
      "metadata": {
        "id": "yiKeMv3lJPM_"
      }
    },
    {
      "cell_type": "markdown",
      "source": [
        "### Create function to calculate how many blocks would fall if a given block is removed"
      ],
      "metadata": {
        "id": "tgYlJXmEgOMh"
      }
    },
    {
      "cell_type": "code",
      "source": [
        "def countFalls(block, on_dict, under_dict):\n",
        "  fallen = set()\n",
        "  if not on_dict[block]:\n",
        "    return len(fallen)\n",
        "  else:\n",
        "    fallen = set([block])\n",
        "    fq = set()\n",
        "    fq.update(on_dict[block])\n",
        "    while fq:\n",
        "      cur = fq.pop()\n",
        "      if len(under_dict[cur]) == 1:\n",
        "        fallen.add(cur)\n",
        "        fq.update(on_dict[cur])\n",
        "      elif under_dict[cur].issubset(fallen):\n",
        "        fallen.add(cur)\n",
        "        fq.update(on_dict[cur])\n",
        "  return len(fallen)-1"
      ],
      "metadata": {
        "id": "NOLqk69JG-UL"
      },
      "execution_count": 5,
      "outputs": []
    },
    {
      "cell_type": "markdown",
      "source": [
        "### Sum up how many blocks would fall if each individual block was removed"
      ],
      "metadata": {
        "id": "1axQf3rggTGY"
      }
    },
    {
      "cell_type": "code",
      "source": [
        "total = 0\n",
        "for k in on_top.keys():\n",
        "  total += countFalls(k, on_top, below)\n",
        "total"
      ],
      "metadata": {
        "colab": {
          "base_uri": "https://localhost:8080/"
        },
        "id": "MtoTWQhoOYfZ",
        "outputId": "5e6e0fff-94f1-4342-db3a-f776b3c58b61"
      },
      "execution_count": 6,
      "outputs": [
        {
          "output_type": "execute_result",
          "data": {
            "text/plain": [
              "79465"
            ]
          },
          "metadata": {},
          "execution_count": 6
        }
      ]
    }
  ]
}