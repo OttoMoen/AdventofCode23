{
  "nbformat": 4,
  "nbformat_minor": 0,
  "metadata": {
    "colab": {
      "provenance": []
    },
    "kernelspec": {
      "name": "python3",
      "display_name": "Python 3"
    },
    "language_info": {
      "name": "python"
    }
  },
  "cells": [
    {
      "cell_type": "markdown",
      "source": [
        "# Advent of Code 2022: Day 18\n",
        "https://adventofcode.com/2022/day/18\n"
      ],
      "metadata": {
        "id": "e7qDcWW3JF8G"
      }
    },
    {
      "cell_type": "markdown",
      "source": [
        "## Part 1\n",
        "Calculate the number of tiles dug out"
      ],
      "metadata": {
        "id": "krtSVL3uJOQC"
      }
    },
    {
      "cell_type": "markdown",
      "source": [
        "### Get the data into a list of strings"
      ],
      "metadata": {
        "id": "Jc2_NXw63k49"
      }
    },
    {
      "cell_type": "code",
      "source": [
        "myfile = open('input.txt', 'r')\n",
        "data = myfile.read()\n",
        "data_list = data.split('\\n')\n",
        "data_list = [line.split(' ') for line in data_list]"
      ],
      "metadata": {
        "id": "xQfXHvPiJQrT"
      },
      "execution_count": 1,
      "outputs": []
    },
    {
      "cell_type": "markdown",
      "source": [
        "### Create function to find the outline by following the provided intstructions"
      ],
      "metadata": {
        "id": "0wpl4yDqCeq-"
      }
    },
    {
      "cell_type": "code",
      "source": [
        "def digTrench(data):\n",
        "  dir = {\n",
        "      'U': [-1,0],\n",
        "      'D': [1,0],\n",
        "      'R': [0,1],\n",
        "      'L': [0,-1]\n",
        "  }\n",
        "  trench = [(0,0)]\n",
        "  l = 0\n",
        "  for i, line in enumerate(data):\n",
        "    trench.append((trench[i][0] + dir[line[0]][0]*int(line[1]),\n",
        "                   trench[i][1] + dir[line[0]][1]*int(line[1])))\n",
        "    l += int(line[1])\n",
        "  return trench, l"
      ],
      "metadata": {
        "id": "-xYMVSP9q6-K"
      },
      "execution_count": 2,
      "outputs": []
    },
    {
      "cell_type": "markdown",
      "source": [
        "### Create function to calculate the area of the lagoon when completely dug out\n",
        "\n",
        "Shoelace formula"
      ],
      "metadata": {
        "id": "n_Cxt2ImCtP8"
      }
    },
    {
      "cell_type": "code",
      "source": [
        "def fillLagoon(trench):\n",
        "  s = trench[0][0] * (trench[-1][1] - trench[1][1])\n",
        "  for i, pos in enumerate(trench[1:-1]):\n",
        "    s += pos[0]*(trench[i][1]-trench[i+2][1])\n",
        "  return s//2"
      ],
      "metadata": {
        "id": "BDrZqjGkjGvp"
      },
      "execution_count": 3,
      "outputs": []
    },
    {
      "cell_type": "markdown",
      "source": [
        "### Calculate the size of the lagoon\n",
        "\n",
        "Picks theorem to find number of points inside"
      ],
      "metadata": {
        "id": "o2BCZ4aRC2AV"
      }
    },
    {
      "cell_type": "code",
      "source": [
        "trench,b = digTrench(data_list)\n",
        "A = fillLagoon(trench)\n",
        "I = (A+1-(b//2))\n",
        "b + I"
      ],
      "metadata": {
        "colab": {
          "base_uri": "https://localhost:8080/"
        },
        "id": "7j6mtUA4Ui3p",
        "outputId": "8aea759f-f1f5-49af-c918-c773a66b20f9"
      },
      "execution_count": 4,
      "outputs": [
        {
          "output_type": "execute_result",
          "data": {
            "text/plain": [
              "28911"
            ]
          },
          "metadata": {},
          "execution_count": 4
        }
      ]
    },
    {
      "cell_type": "markdown",
      "source": [
        "## Part 2\n",
        "Calculate the number of tiles dug out, with new instructions"
      ],
      "metadata": {
        "id": "yiKeMv3lJPM_"
      }
    },
    {
      "cell_type": "markdown",
      "source": [
        "### Create function to convert the data to the new format"
      ],
      "metadata": {
        "id": "aNmJdm7fu2Ry"
      }
    },
    {
      "cell_type": "code",
      "source": [
        "def convertData(data):\n",
        "  dir = {\n",
        "      '0': 'R',\n",
        "      '1': 'D',\n",
        "      '2': 'L',\n",
        "      '3': 'U'\n",
        "  }\n",
        "  converted = []\n",
        "  for line in data:\n",
        "    d = dir[line[2][-2]]\n",
        "    l = int(line[2][2:-2], 16)\n",
        "    converted.append([d, l])\n",
        "  return converted"
      ],
      "metadata": {
        "id": "tnXz3iGjqEYH"
      },
      "execution_count": 5,
      "outputs": []
    },
    {
      "cell_type": "markdown",
      "source": [
        "### Calculate the size of the lagoon"
      ],
      "metadata": {
        "id": "u1uE0rjwu61S"
      }
    },
    {
      "cell_type": "code",
      "source": [
        "conv_data = convertData(data_list)\n",
        "trench,b = digTrench(conv_data)\n",
        "A = fillLagoon(trench)\n",
        "I = (A+1-(b//2))\n",
        "b + I"
      ],
      "metadata": {
        "colab": {
          "base_uri": "https://localhost:8080/"
        },
        "id": "7Fz6l_MDuvZy",
        "outputId": "7c15e5d3-87a0-41e2-da29-02827887a48c"
      },
      "execution_count": 6,
      "outputs": [
        {
          "output_type": "execute_result",
          "data": {
            "text/plain": [
              "77366737561114"
            ]
          },
          "metadata": {},
          "execution_count": 6
        }
      ]
    }
  ]
}