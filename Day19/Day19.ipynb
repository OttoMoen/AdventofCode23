{
  "nbformat": 4,
  "nbformat_minor": 0,
  "metadata": {
    "colab": {
      "provenance": []
    },
    "kernelspec": {
      "name": "python3",
      "display_name": "Python 3"
    },
    "language_info": {
      "name": "python"
    }
  },
  "cells": [
    {
      "cell_type": "markdown",
      "source": [
        "# Advent of Code 2023: Day 19\n",
        "https://adventofcode.com/2023/day/19\n"
      ],
      "metadata": {
        "id": "e7qDcWW3JF8G"
      }
    },
    {
      "cell_type": "markdown",
      "source": [
        "## Part 1\n"
      ],
      "metadata": {
        "id": "krtSVL3uJOQC"
      }
    },
    {
      "cell_type": "markdown",
      "source": [
        "### Get the data into a list of strings"
      ],
      "metadata": {
        "id": "s0TKXrLGCJY1"
      }
    },
    {
      "cell_type": "code",
      "source": [
        "myfile = open('input.txt', 'r')\n",
        "data = myfile.read()\n",
        "data_list = data.split('\\n\\n')"
      ],
      "metadata": {
        "id": "xQfXHvPiJQrT"
      },
      "execution_count": 1,
      "outputs": []
    },
    {
      "cell_type": "markdown",
      "source": [
        "### Create function to process the instruction part of the input into a dictionary"
      ],
      "metadata": {
        "id": "klehsGfj2gPj"
      }
    },
    {
      "cell_type": "code",
      "source": [
        "def processInstructions(data):\n",
        "  rules = {}\n",
        "  for rule in data:\n",
        "    name = rule[:rule.find('{')]\n",
        "    step = rule[rule.find('{')+1:rule.find('}')]\n",
        "    steps = []\n",
        "    for s in step.split(','):\n",
        "      tmp = s.split(':')\n",
        "      if len(tmp) == 2:\n",
        "        o = tmp[0][:2]\n",
        "        t = int(tmp[0][2:])\n",
        "        steps.append([o, t, tmp[1]])\n",
        "      else:\n",
        "        steps.append(tmp)\n",
        "    rules[name] = steps\n",
        "  return rules"
      ],
      "metadata": {
        "id": "bw0hPbeR2bHc"
      },
      "execution_count": 2,
      "outputs": []
    },
    {
      "cell_type": "markdown",
      "source": [
        "### Create function to process the item part of the input into a list of dictionaries"
      ],
      "metadata": {
        "id": "U9Ojb2eq2ogl"
      }
    },
    {
      "cell_type": "code",
      "source": [
        "def processItems(data):\n",
        "  items = []\n",
        "  for item in data:\n",
        "    i = {}\n",
        "    values = item.split(',')\n",
        "    for v in values:\n",
        "      tmp = v[v.find('=')+1:]\n",
        "      if v[0] == '{':\n",
        "        i[v[1]] = int(v[v.find('=')+1:])\n",
        "      elif tmp[-1] == '}':\n",
        "        i[v[0]] = int(v[v.find('=')+1:-1])\n",
        "      else:\n",
        "        i[v[0]] = int(v[v.find('=')+1:])\n",
        "    items.append(i)\n",
        "  return items"
      ],
      "metadata": {
        "id": "P8Qwswsq8WQf"
      },
      "execution_count": 3,
      "outputs": []
    },
    {
      "cell_type": "markdown",
      "source": [
        "### Create function to follow a single rule"
      ],
      "metadata": {
        "id": "_57cwLFv2uJj"
      }
    },
    {
      "cell_type": "code",
      "source": [
        "def followRule(item, rule, rule_dict):\n",
        "  steps = rule_dict[rule]\n",
        "  for step in steps:\n",
        "    if len(step) == 1:\n",
        "      return step[0]\n",
        "    else:\n",
        "      comp = step[0][1]\n",
        "      i_v = item[step[0][0]]\n",
        "      if comp == '<' and i_v < step[1]:\n",
        "        return step[2]\n",
        "      elif comp == '>' and i_v > step[1]:\n",
        "        return step[2]\n",
        "  return 'Error'"
      ],
      "metadata": {
        "id": "ypvPE_S19v1n"
      },
      "execution_count": 4,
      "outputs": []
    },
    {
      "cell_type": "markdown",
      "source": [
        "### Create function to follow rules until an item is accepted or rejected"
      ],
      "metadata": {
        "id": "k0A1tERr2z8B"
      }
    },
    {
      "cell_type": "code",
      "source": [
        "def followRules(item, rule, rule_dict):\n",
        "  while rule != 'A' and rule != 'R':\n",
        "    rule = followRule(item, rule, rule_dict)\n",
        "  return rule"
      ],
      "metadata": {
        "id": "PCtOsIzXAxyg"
      },
      "execution_count": 5,
      "outputs": []
    },
    {
      "cell_type": "markdown",
      "source": [
        "### Create function to go through the items and accept/reject them"
      ],
      "metadata": {
        "id": "7MjP-NDA25Oq"
      }
    },
    {
      "cell_type": "code",
      "source": [
        "def acceptReject(items, rule_dict):\n",
        "  AR = []\n",
        "  start_rule = 'in'\n",
        "  for item in items:\n",
        "    rule = followRules(item, start_rule, rule_dict)\n",
        "    AR.append(rule)\n",
        "\n",
        "  return AR"
      ],
      "metadata": {
        "id": "KMikcOYHBi3H"
      },
      "execution_count": 6,
      "outputs": []
    },
    {
      "cell_type": "markdown",
      "source": [
        "### Accept or Reject every item, sum up the values for the accepted items"
      ],
      "metadata": {
        "id": "JpJJUG3r2-Uf"
      }
    },
    {
      "cell_type": "code",
      "source": [
        "rule_dict = processInstructions(data_list[0].split('\\n'))\n",
        "items = processItems(data_list[1].split('\\n'))\n",
        "AR = acceptReject(items, rule_dict)\n",
        "\n",
        "total_value = 0\n",
        "for i, item in enumerate(items):\n",
        "  if AR[i] == 'A':\n",
        "    total_value += sum(list(item.values()))\n",
        "total_value"
      ],
      "metadata": {
        "colab": {
          "base_uri": "https://localhost:8080/"
        },
        "id": "exaHDdJpDpjo",
        "outputId": "9ad0e8e3-7a48-4520-e43f-d32dba289eab"
      },
      "execution_count": 7,
      "outputs": [
        {
          "output_type": "execute_result",
          "data": {
            "text/plain": [
              "509597"
            ]
          },
          "metadata": {},
          "execution_count": 7
        }
      ]
    },
    {
      "cell_type": "markdown",
      "source": [
        "## Part 2\n",
        "Find how many distinct combinations would be accepted"
      ],
      "metadata": {
        "id": "yiKeMv3lJPM_"
      }
    },
    {
      "cell_type": "markdown",
      "source": [
        "### Create function to return all combinations of ranges that would cause an item to be Accepted."
      ],
      "metadata": {
        "id": "yA6LyytN7DnO"
      }
    },
    {
      "cell_type": "code",
      "source": [
        "from copy import deepcopy\n",
        "def acceptRejectRange(ranges, rule, rule_dict):\n",
        "  ranges_tmp = deepcopy(ranges)\n",
        "  combos = []\n",
        "\n",
        "  # If the rule is A, return the valid combination,\n",
        "  # otherwise return an empty list\n",
        "  if rule == 'A':\n",
        "    return [ranges_tmp]\n",
        "  elif rule == 'R':\n",
        "    return combos\n",
        "\n",
        "  # Get the current rule from the dictionary\n",
        "  r = rule_dict[rule]\n",
        "\n",
        "  # Check if all outcomes of the rule lead to A\n",
        "  # or R. Same outomes as above\n",
        "  all_A = True\n",
        "  all_R = True\n",
        "  for step in r:\n",
        "    if step[-1] != 'A':\n",
        "      all_A = False\n",
        "      break\n",
        "  for step in r:\n",
        "    if step[-1] != 'R':\n",
        "      all_R = False\n",
        "      break\n",
        "  if all_A:\n",
        "    return [ranges_tmp]\n",
        "  if all_R:\n",
        "    return combos\n",
        "\n",
        "  # Go through the steps of the rule\n",
        "  for step in r:\n",
        "\n",
        "    # it's the final step in a rule, go straight to the next rule\n",
        "    if len(step) == 1:\n",
        "      combos.append(acceptRejectRange(ranges_tmp, step[0], rule_dict))\n",
        "\n",
        "    # Otherwise, modify the range corresponding to the current step so\n",
        "    # that it passes the comparrison and go to the next rule. Afterwards,\n",
        "    # instead modify it so that it fails the comparison (for the next iteration).\n",
        "    else:\n",
        "      char, comp = step[0]\n",
        "      if comp == '<':\n",
        "        p = ranges_tmp[char][1]\n",
        "        ranges_tmp[char][1] = step[1]-1\n",
        "        combos.append(acceptRejectRange(ranges_tmp, step[2], rule_dict))\n",
        "        ranges_tmp[char][1] = p\n",
        "        ranges_tmp[char][0] = step[1]\n",
        "      elif comp == '>':\n",
        "        p = ranges_tmp[char][0]\n",
        "        ranges_tmp[char][0] = step[1]+1\n",
        "        combos.append(acceptRejectRange(ranges_tmp, step[2], rule_dict))\n",
        "        ranges_tmp[char][0] = p\n",
        "        ranges_tmp[char][1] = step[1]\n",
        "  return combos"
      ],
      "metadata": {
        "id": "zBw7Y1PRZdT9"
      },
      "execution_count": 8,
      "outputs": []
    },
    {
      "cell_type": "markdown",
      "source": [
        "### Create function to unpack a nested list"
      ],
      "metadata": {
        "id": "nBb1wZoL7KwK"
      }
    },
    {
      "cell_type": "code",
      "source": [
        "def unpackList(nested_list, inner_element):\n",
        "  result = nested_list\n",
        "  if inner_element == 'dict':\n",
        "    while not all(isinstance(item, dict) for item in result):\n",
        "      res = []\n",
        "      i = 0\n",
        "      for item in result:\n",
        "        if isinstance(item, dict):\n",
        "          res.append(item)\n",
        "        else:\n",
        "          res.extend(item)\n",
        "        i += 1\n",
        "      result = res\n",
        "  return result"
      ],
      "metadata": {
        "id": "1brPY97ssQKt"
      },
      "execution_count": 9,
      "outputs": []
    },
    {
      "cell_type": "markdown",
      "source": [
        "### Calculate the total number of combinations that would cause an item to be Accepted"
      ],
      "metadata": {
        "id": "3cp9XMVd7NzL"
      }
    },
    {
      "cell_type": "code",
      "source": [
        "ranges = {\n",
        "    'x': [1,4000],\n",
        "    'm': [1,4000],\n",
        "    'a': [1,4000],\n",
        "    's': [1,4000]\n",
        "}\n",
        "\n",
        "combos = acceptRejectRange(ranges, 'in', rule_dict)\n",
        "combos = unpackList(combos, 'dict')\n",
        "combos\n",
        "total = 0\n",
        "for item in combos:\n",
        "  x = item['x']\n",
        "  m = item['m']\n",
        "  a = item['a']\n",
        "  s = item['s']\n",
        "\n",
        "  total += ((x[1]-x[0]+1) * (m[1]-m[0]+1) * (a[1]-a[0]+1) * (s[1]-s[0]+1))\n",
        "total"
      ],
      "metadata": {
        "colab": {
          "base_uri": "https://localhost:8080/"
        },
        "id": "G8ok9batYxK_",
        "outputId": "55f986c9-188c-4860-8e54-def96ed1db72"
      },
      "execution_count": 10,
      "outputs": [
        {
          "output_type": "execute_result",
          "data": {
            "text/plain": [
              "143219569011526"
            ]
          },
          "metadata": {},
          "execution_count": 10
        }
      ]
    }
  ]
}