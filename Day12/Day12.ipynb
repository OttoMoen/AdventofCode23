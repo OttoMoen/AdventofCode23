{
  "nbformat": 4,
  "nbformat_minor": 0,
  "metadata": {
    "colab": {
      "provenance": []
    },
    "kernelspec": {
      "name": "python3",
      "display_name": "Python 3"
    },
    "language_info": {
      "name": "python"
    }
  },
  "cells": [
    {
      "cell_type": "markdown",
      "source": [
        "# Advent of Code 2023: Day 12\n",
        "https://adventofcode.com/2023/day/12\n"
      ],
      "metadata": {
        "id": "e7qDcWW3JF8G"
      }
    },
    {
      "cell_type": "markdown",
      "source": [
        "## Part 1\n",
        "Find the sum of the number of possible ways to arrange the missing symbols of a string of \"#\" and \".\" symbols"
      ],
      "metadata": {
        "id": "krtSVL3uJOQC"
      }
    },
    {
      "cell_type": "markdown",
      "source": [
        "### Get the data into a list of tuples of strings and integers"
      ],
      "metadata": {
        "id": "Jc2_NXw63k49"
      }
    },
    {
      "cell_type": "code",
      "source": [
        "myfile = open('input.txt', 'r')\n",
        "data = myfile.read()\n",
        "data_list = data.split('\\n')\n",
        "data_list = [l.split() for l in data_list]\n",
        "data_list = [(p, tuple(int(n) for n in s.split(\",\"))) for p, s in data_list]"
      ],
      "metadata": {
        "id": "xQfXHvPiJQrT"
      },
      "execution_count": 46,
      "outputs": []
    },
    {
      "cell_type": "markdown",
      "source": [
        "### Create function to count the number of possible arrangements for a string\n",
        "\n",
        "Function from user RedPixel (https://gitlab.com/RedPixel/aoc2023)\n",
        "\n",
        "With @cache, stores previous recursive calls, meaning the function does not have to re-make previous calls.\n",
        "\n"
      ],
      "metadata": {
        "id": "WXDqqOcj5j3o"
      }
    },
    {
      "cell_type": "code",
      "source": [
        "from functools import cache\n",
        "\n",
        "@cache\n",
        "def count(pattern, symbols, hashtags=0):\n",
        "\n",
        "  # If there is nothing left in the pattern\n",
        "  if not pattern:\n",
        "\n",
        "    # If there is nothing left in symbols, and if h is 0, return True(1),\n",
        "    # otherwise return False(0)\n",
        "    return not symbols and not hashtags\n",
        "\n",
        "  # Set the count to 0\n",
        "  n = 0\n",
        "\n",
        "  # If the first character in the pattern is either # or ?\n",
        "  if pattern[0] in (\"#\",\"?\"):\n",
        "    # Call the count function without the first character of the pattern and h + 1\n",
        "    n += count(pattern[1:], symbols, hashtags+1)\n",
        "\n",
        "  # If the first character in the pattern is either . or ? and\n",
        "  # if symbols is not empty, and the first element is equal to h if h is not 0\n",
        "  if pattern[0] in (\".\", \"?\") and (symbols and symbols[0] == hashtags or not hashtags):\n",
        "    # Call the count function without the first character of the pattern,\n",
        "    # and without the first symbol if h is not 0.\n",
        "    n += count(pattern[1:], symbols[1:] if hashtags else symbols)\n",
        "  return n"
      ],
      "metadata": {
        "id": "Aa1S_I-czCwx"
      },
      "execution_count": 47,
      "outputs": []
    },
    {
      "cell_type": "code",
      "source": [
        "sum(count(pattern + \".\", string) for pattern, string in data_list)"
      ],
      "metadata": {
        "colab": {
          "base_uri": "https://localhost:8080/"
        },
        "id": "pyvK_iLq2cMI",
        "outputId": "01211713-3dd5-49d3-8cae-ea6fd69b463f"
      },
      "execution_count": 48,
      "outputs": [
        {
          "output_type": "execute_result",
          "data": {
            "text/plain": [
              "7674"
            ]
          },
          "metadata": {},
          "execution_count": 48
        }
      ]
    },
    {
      "cell_type": "markdown",
      "source": [
        "## Part 2\n",
        "Find the sum of the number of possible ways to arrange the missing symbols of a string of \"#\" and \".\" symbols, where each string (and instructions) is duplicated 5 times."
      ],
      "metadata": {
        "id": "yiKeMv3lJPM_"
      }
    },
    {
      "cell_type": "code",
      "source": [
        "sum(count('?'.join([pattern]*5) + \".\", string*5) for pattern, string in data_list)"
      ],
      "metadata": {
        "colab": {
          "base_uri": "https://localhost:8080/"
        },
        "id": "c5zyMQEV4hbf",
        "outputId": "535c3839-a460-4111-d041-29495f310a27"
      },
      "execution_count": 49,
      "outputs": [
        {
          "output_type": "execute_result",
          "data": {
            "text/plain": [
              "4443895258186"
            ]
          },
          "metadata": {},
          "execution_count": 49
        }
      ]
    }
  ]
}