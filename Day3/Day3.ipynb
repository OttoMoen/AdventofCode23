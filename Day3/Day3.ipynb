{
  "nbformat": 4,
  "nbformat_minor": 0,
  "metadata": {
    "colab": {
      "provenance": []
    },
    "kernelspec": {
      "name": "python3",
      "display_name": "Python 3"
    },
    "language_info": {
      "name": "python"
    }
  },
  "cells": [
    {
      "cell_type": "markdown",
      "source": [
        "# Advent of Code 2023: Day 3\n",
        "https://adventofcode.com/2023/day/3\n"
      ],
      "metadata": {
        "id": "e7qDcWW3JF8G"
      }
    },
    {
      "cell_type": "markdown",
      "source": [
        "## Part 1\n",
        "Calculate the sum of numbers adjacent to a symbol"
      ],
      "metadata": {
        "id": "krtSVL3uJOQC"
      }
    },
    {
      "cell_type": "markdown",
      "source": [
        "### Get the data into a list of strings"
      ],
      "metadata": {
        "id": "Jc2_NXw63k49"
      }
    },
    {
      "cell_type": "code",
      "source": [
        "myfile = open('input.txt', 'r')\n",
        "data = myfile.read()\n",
        "data_list = data.split('\\n')"
      ],
      "metadata": {
        "id": "xQfXHvPiJQrT"
      },
      "execution_count": 33,
      "outputs": []
    },
    {
      "cell_type": "markdown",
      "source": [
        "### Get the data into a list of lists of characters"
      ],
      "metadata": {
        "id": "e6FEEJ93QKSu"
      }
    },
    {
      "cell_type": "code",
      "source": [
        "data_array = []\n",
        "for i in data_list:\n",
        "  data_array.append(list(i))"
      ],
      "metadata": {
        "id": "7zolTLbn_IHW"
      },
      "execution_count": 34,
      "outputs": []
    },
    {
      "cell_type": "markdown",
      "source": [
        "### Create function to retrieve a list of all cells surrounding a set of cells given by the starting and ending indices."
      ],
      "metadata": {
        "id": "zyAKw7k7QQJS"
      }
    },
    {
      "cell_type": "code",
      "source": [
        "def getSurroundings(row, start_ind, end_ind, nrows, ncols):\n",
        "  surround = []\n",
        "  if row != nrows-1:\n",
        "      for i in range(start_ind, end_ind+1):\n",
        "        surround.append(data_array[row+1][i])\n",
        "      if start_ind != 0:\n",
        "        surround.append(data_array[row+1][start_ind-1])\n",
        "      if end_ind != ncols-1:\n",
        "        surround.append(data_array[row+1][end_ind+1])\n",
        "  if row != 0:\n",
        "    for i in range(start_ind, end_ind+1):\n",
        "      surround.append(data_array[row-1][i])\n",
        "    if start_ind != 0:\n",
        "        surround.append(data_array[row-1][start_ind-1])\n",
        "    if end_ind != ncols-1:\n",
        "        surround.append(data_array[row-1][end_ind+1])\n",
        "  if start_ind != 0:\n",
        "    surround.append(data_array[row][start_ind-1])\n",
        "  if end_ind != ncols-1:\n",
        "    surround.append(data_array[row][end_ind+1])\n",
        "\n",
        "  return surround"
      ],
      "metadata": {
        "id": "v_8GBeVUEkLk"
      },
      "execution_count": 35,
      "outputs": []
    },
    {
      "cell_type": "markdown",
      "source": [
        "### Calculate the sum of all numbers that have a symbol adjacent to them."
      ],
      "metadata": {
        "id": "l96jqYV4QbFh"
      }
    },
    {
      "cell_type": "code",
      "source": [
        "nrows = len(data_array)\n",
        "ncols = len(data_array[0])\n",
        "\n",
        "i = 0\n",
        "j = 0\n",
        "\n",
        "result = []\n",
        "\n",
        "while i < nrows:\n",
        "  j = 0\n",
        "  start_ind = 0\n",
        "  end_ind = 0\n",
        "  while j < ncols:\n",
        "    if data_array[i][j].isnumeric():\n",
        "      start_ind = j\n",
        "      k = j\n",
        "      while k < ncols and data_array[i][k].isnumeric():\n",
        "        k += 1\n",
        "        end_ind = k\n",
        "      surroundings = getSurroundings(i, start_ind, end_ind-1, nrows, ncols)\n",
        "      if len(set(surroundings)) != 1:\n",
        "        s = ''\n",
        "        for l in range(start_ind, end_ind):\n",
        "          s = s + data_array[i][l]\n",
        "        result.append(int(s))\n",
        "      j = k+1\n",
        "    else:\n",
        "      j +=1\n",
        "  i += 1\n",
        "\n",
        "sum(result)"
      ],
      "metadata": {
        "colab": {
          "base_uri": "https://localhost:8080/"
        },
        "id": "3vHapc9-AUG4",
        "outputId": "cbba2455-ef6f-4b77-cf12-ce2aad6c66a7"
      },
      "execution_count": 36,
      "outputs": [
        {
          "output_type": "execute_result",
          "data": {
            "text/plain": [
              "539637"
            ]
          },
          "metadata": {},
          "execution_count": 36
        }
      ]
    },
    {
      "cell_type": "markdown",
      "source": [
        "## Part 2\n",
        "Find the sum of the products of each set of 2 numbers that are adjacent to a * symbol."
      ],
      "metadata": {
        "id": "WnKLHrqpQGb9"
      }
    },
    {
      "cell_type": "markdown",
      "source": [
        "### Modify the surroundings-retrieving function to instead return a dictionary that not only returns the value of a cell, but also its coordinates."
      ],
      "metadata": {
        "id": "dG3vY3VG9C8I"
      }
    },
    {
      "cell_type": "code",
      "source": [
        "def getSurroundings2(row, start_ind, end_ind, nrows, ncols):\n",
        "  surround = {}\n",
        "  if row != nrows-1:\n",
        "    for i in range(start_ind, end_ind+1):\n",
        "      surround[str([row+1,i])] = data_array[row+1][i]\n",
        "    if start_ind != 0:\n",
        "      surround[str([row+1, start_ind-1])] = data_array[row+1][start_ind-1]\n",
        "    if end_ind != ncols-1:\n",
        "      surround[str([row+1, end_ind+1])] = data_array[row+1][end_ind+1]\n",
        "  if row != 0:\n",
        "    for i in range(start_ind, end_ind+1):\n",
        "      surround[str([row-1,i])] = data_array[row-1][i]\n",
        "    if start_ind != 0:\n",
        "      surround[str([row-1, start_ind-1])] = data_array[row-1][start_ind-1]\n",
        "    if end_ind != ncols-1:\n",
        "      surround[str([row-1, end_ind+1])] = data_array[row-1][end_ind+1]\n",
        "  if start_ind != 0:\n",
        "    surround[str([row,start_ind-1])] = data_array[row][start_ind-1]\n",
        "  if end_ind != ncols-1:\n",
        "    surround[str([row,end_ind+1])] = data_array[row][end_ind+1]\n",
        "\n",
        "  return surround"
      ],
      "metadata": {
        "id": "4PG_jVCb4Yo2"
      },
      "execution_count": 37,
      "outputs": []
    },
    {
      "cell_type": "markdown",
      "source": [
        "### Calculate the sum of the products"
      ],
      "metadata": {
        "id": "ApWSbSwD9Y6R"
      }
    },
    {
      "cell_type": "code",
      "source": [
        "result = {}\n",
        "i = 0\n",
        "j = 0\n",
        "\n",
        "while i < nrows:\n",
        "  j = 0\n",
        "  start_ind = 0\n",
        "  end_ind = 0\n",
        "  while j < ncols:\n",
        "    if data_array[i][j].isnumeric():\n",
        "      start_ind = j\n",
        "      k = j\n",
        "      while k < ncols and data_array[i][k].isnumeric():\n",
        "        k += 1\n",
        "        end_ind = k\n",
        "      surroundings = getSurroundings2(i, start_ind, end_ind-1, nrows, ncols)\n",
        "      for key in surroundings:\n",
        "        if surroundings[key] == '*':\n",
        "          s = ''\n",
        "          for l in range(start_ind, end_ind):\n",
        "            s = s + data_array[i][l]\n",
        "          if key in result.keys():\n",
        "            result[key].append(int(s))\n",
        "          else:\n",
        "            result[key] = [int(s)]\n",
        "      j = k+1\n",
        "    else:\n",
        "      j +=1\n",
        "  i += 1"
      ],
      "metadata": {
        "id": "AS9rOXqX30dK"
      },
      "execution_count": 38,
      "outputs": []
    },
    {
      "cell_type": "code",
      "source": [
        "s = 0\n",
        "for key in result:\n",
        "  if len(result[key]) == 2:\n",
        "    s = s + (result[key][0]*result[key][1])\n",
        "s"
      ],
      "metadata": {
        "colab": {
          "base_uri": "https://localhost:8080/"
        },
        "id": "rwXVsgeT7-ph",
        "outputId": "4be9da7b-4284-49bd-b6bd-9f7a28e3f99d"
      },
      "execution_count": 39,
      "outputs": [
        {
          "output_type": "execute_result",
          "data": {
            "text/plain": [
              "82818007"
            ]
          },
          "metadata": {},
          "execution_count": 39
        }
      ]
    }
  ]
}