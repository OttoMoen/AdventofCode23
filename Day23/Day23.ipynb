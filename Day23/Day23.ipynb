{
  "nbformat": 4,
  "nbformat_minor": 0,
  "metadata": {
    "colab": {
      "provenance": []
    },
    "kernelspec": {
      "name": "python3",
      "display_name": "Python 3"
    },
    "language_info": {
      "name": "python"
    }
  },
  "cells": [
    {
      "cell_type": "markdown",
      "source": [
        "# Advent of Code 2023: Day 23\n",
        "https://adventofcode.com/2023/day/23\n"
      ],
      "metadata": {
        "id": "e7qDcWW3JF8G"
      }
    },
    {
      "cell_type": "markdown",
      "source": [
        "## Part 1\n",
        "Get the longest path from the start to the end"
      ],
      "metadata": {
        "id": "krtSVL3uJOQC"
      }
    },
    {
      "cell_type": "markdown",
      "source": [
        "### Get the data into a list of lists of characters"
      ],
      "metadata": {
        "id": "Jc2_NXw63k49"
      }
    },
    {
      "cell_type": "code",
      "source": [
        "myfile = open('input.txt', 'r')\n",
        "data = myfile.read()\n",
        "data_list = data.split('\\n')\n",
        "data_map = [list(line) for line in data_list]"
      ],
      "metadata": {
        "id": "G0JRpA44ACy-"
      },
      "execution_count": 1,
      "outputs": []
    },
    {
      "cell_type": "markdown",
      "source": [
        "### Create function to retrieve the valid neighbors for a given position"
      ],
      "metadata": {
        "id": "buulX1c4YIXz"
      }
    },
    {
      "cell_type": "code",
      "source": [
        "def getNeighbors(pos, data):\n",
        "  nrows = len(data)\n",
        "  ncols = len(data[0])\n",
        "  row = pos[0]\n",
        "  col = pos[1]\n",
        "  neighbors = []\n",
        "\n",
        "  if (row > 0) and (data[row-1][col] not in ['#','v']) and (data[row][col] not in ['<','>','v']):\n",
        "    neighbors.append((row-1, col))\n",
        "\n",
        "  if (row < nrows-1) and (data[row+1][col] not in ['#','^']) and (data[row][col] not in ['<','>','^']):\n",
        "    neighbors.append((row+1, col))\n",
        "\n",
        "  if (col > 0) and (data[row][col-1] not in ['#','>']) and (data[row][col] not in ['v','>','^']):\n",
        "    neighbors.append((row, col-1))\n",
        "\n",
        "  if (col < ncols-1) and (data[row][col+1] not in ['#','<']) and (data[row][col] not in ['<','v','^']):\n",
        "    neighbors.append((row, col+1))\n",
        "\n",
        "  return neighbors"
      ],
      "metadata": {
        "id": "z-LX7bMjslXQ"
      },
      "execution_count": 2,
      "outputs": []
    },
    {
      "cell_type": "markdown",
      "source": [
        "### Create function to perform a bfs to find the longest path"
      ],
      "metadata": {
        "id": "jspnlWrXYRp2"
      }
    },
    {
      "cell_type": "code",
      "source": [
        "def longestPath(start,end,data):\n",
        "  explore_q = [start]\n",
        "  prev = {start: [start]}\n",
        "  dist = {start: [0]}\n",
        "  visited = set([start])\n",
        "  while explore_q:\n",
        "    cur = explore_q.pop(0)\n",
        "    neighbors = getNeighbors(cur, data)\n",
        "    for neighbor in neighbors:\n",
        "      if neighbor not in visited:\n",
        "        visited.add(neighbor)\n",
        "        explore_q.append(neighbor)\n",
        "        prev[neighbor] = [cur]\n",
        "        dist[neighbor] = [dist[cur][-1]+1]\n",
        "      else:\n",
        "        if neighbor not in prev[neighbor] and neighbor not in prev[cur]:\n",
        "          prev[neighbor].append(cur)\n",
        "          dist[neighbor].append(dist[cur][-1]+1)\n",
        "\n",
        "  cur = end\n",
        "  longest_path = [cur]\n",
        "  while cur not in prev[cur]:\n",
        "    if len(prev[cur]) == 1:\n",
        "      longest_path.insert(0, prev[cur][0])\n",
        "      cur = prev[cur][0]\n",
        "    else:\n",
        "      idx = dist[cur].index(max(dist[cur]))\n",
        "      longest_path.insert(0, prev[cur][idx])\n",
        "      cur = prev[cur][idx]\n",
        "  return len(longest_path)-1"
      ],
      "metadata": {
        "id": "LcnWK39quf4Z"
      },
      "execution_count": 3,
      "outputs": []
    },
    {
      "cell_type": "markdown",
      "source": [
        "### Find the length of the longest path"
      ],
      "metadata": {
        "id": "vOhkmnrRYVKJ"
      }
    },
    {
      "cell_type": "code",
      "source": [
        "start = (0,1)\n",
        "end = (len(data_map)-1, len(data_map[0])-2)\n",
        "longestPath(start, end, data_map)"
      ],
      "metadata": {
        "colab": {
          "base_uri": "https://localhost:8080/"
        },
        "id": "N3ykV79jsWMz",
        "outputId": "3a00f82f-c01b-4a17-913f-3a55d7c5ae8d"
      },
      "execution_count": 4,
      "outputs": [
        {
          "output_type": "execute_result",
          "data": {
            "text/plain": [
              "2086"
            ]
          },
          "metadata": {},
          "execution_count": 4
        }
      ]
    },
    {
      "cell_type": "markdown",
      "source": [
        "## Part 2\n",
        "Get the longest path from the start to the end, new map rules"
      ],
      "metadata": {
        "id": "yiKeMv3lJPM_"
      }
    },
    {
      "cell_type": "markdown",
      "source": [
        "### Create new function to retrieve the valid neighbors for a given position"
      ],
      "metadata": {
        "id": "HHzMpLEFZE-8"
      }
    },
    {
      "cell_type": "code",
      "source": [
        "def getNeighbors2(pos, data):\n",
        "  nrows = len(data)\n",
        "  ncols = len(data[0])\n",
        "  row = pos[0]\n",
        "  col = pos[1]\n",
        "  neighbors = []\n",
        "\n",
        "  if (row > 0) and (data[row-1][col] != '#'):\n",
        "    neighbors.append((row-1, col))\n",
        "\n",
        "  if (row < nrows-1) and (data[row+1][col] != '#'):\n",
        "    neighbors.append((row+1, col))\n",
        "\n",
        "  if (col > 0) and (data[row][col-1] !='#'):\n",
        "    neighbors.append((row, col-1))\n",
        "\n",
        "  if (col < ncols-1) and (data[row][col+1] != '#'):\n",
        "    neighbors.append((row, col+1))\n",
        "\n",
        "  return neighbors"
      ],
      "metadata": {
        "id": "D2PYuPZ6A-63"
      },
      "execution_count": 5,
      "outputs": []
    },
    {
      "cell_type": "markdown",
      "source": [
        "### Create modified version of a path-finding algorithm\n",
        "Try to reach the end, but only if it's a single path. If a split in the road is found before reaching the end, stop early and return None."
      ],
      "metadata": {
        "id": "HtcSefuKZQyQ"
      }
    },
    {
      "cell_type": "code",
      "source": [
        "def path(start, end, data):\n",
        "  explore_q = [start]\n",
        "  prev = {start: start}\n",
        "  dist = {start: 0}\n",
        "  visited = set([start])\n",
        "  while explore_q:\n",
        "    cur = explore_q.pop(0)\n",
        "    neighbors = getNeighbors2(cur, data)\n",
        "    if len(neighbors) <= 2 or cur == start:\n",
        "      for neighbor in neighbors:\n",
        "        if neighbor not in visited:\n",
        "          visited.add(neighbor)\n",
        "          explore_q.append(neighbor)\n",
        "          prev[neighbor] = cur\n",
        "          dist[neighbor] = dist[cur]+1\n",
        "          if neighbor == end:\n",
        "            return dist[neighbor]\n",
        "    else:\n",
        "      continue\n",
        "  return None"
      ],
      "metadata": {
        "id": "X64jE1X7MlV-"
      },
      "execution_count": 6,
      "outputs": []
    },
    {
      "cell_type": "markdown",
      "source": [
        "### Create function to retrieve all positions where the path splits"
      ],
      "metadata": {
        "id": "Mlkx4G4aaAEA"
      }
    },
    {
      "cell_type": "code",
      "source": [
        "def getSplits(data):\n",
        "  splits = set()\n",
        "  for i in range(len(data)):\n",
        "    for j in range(len(data[0])):\n",
        "      if data[i][j] == '.':\n",
        "        if len(getNeighbors2((i,j),data)) > 2:\n",
        "          splits.add((i,j))\n",
        "  return splits"
      ],
      "metadata": {
        "id": "o0f9MjXcKrtM"
      },
      "execution_count": 7,
      "outputs": []
    },
    {
      "cell_type": "markdown",
      "source": [
        "### Create function to retrieve a graph of the splits\n",
        "For each split (as well as the start and end positions), try to find every other location. For each found, add information to the graph dictionary about which two splits are connected and the distance between them."
      ],
      "metadata": {
        "id": "fqcoe2T_aMQQ"
      }
    },
    {
      "cell_type": "code",
      "source": [
        "def getSplitGraph(start, end, data):\n",
        "  splits = [start]\n",
        "  splits.extend(getSplits(data))\n",
        "  splits.append(end)\n",
        "  graph = {}\n",
        "  while splits:\n",
        "    cur = splits.pop(0)\n",
        "    for s in splits:\n",
        "      d = path(cur, s, data)\n",
        "      if d:\n",
        "        if graph.get(cur):\n",
        "          graph[cur][s] = d\n",
        "        else:\n",
        "          graph[cur] = {s: d}\n",
        "        if graph.get(s):\n",
        "          graph[s][cur] = d\n",
        "        else:\n",
        "          graph[s] = {cur: d}\n",
        "  return graph"
      ],
      "metadata": {
        "id": "Gn_-ghDaLx5N"
      },
      "execution_count": 8,
      "outputs": []
    },
    {
      "cell_type": "markdown",
      "source": [
        "### Create a function to find the longest path using the graph data\n",
        "Go along a path recursively until reaching the end, then compare the length against the current maximum"
      ],
      "metadata": {
        "id": "ddiwMfX9ayCR"
      }
    },
    {
      "cell_type": "code",
      "source": [
        "def longestGraphPath(start, end, graph, path=(), total = 0, m=0):\n",
        "        path = path + (start,)\n",
        "        if start == end:\n",
        "            return max(total, m)\n",
        "        for node in graph[start]:\n",
        "            if node not in path:\n",
        "                m  = longestGraphPath(node, end, graph, path=path, total=total+graph[start][node], m=m)\n",
        "        return m"
      ],
      "metadata": {
        "id": "UojZsXLfmW1d"
      },
      "execution_count": 9,
      "outputs": []
    },
    {
      "cell_type": "markdown",
      "source": [
        "### Calculate the longest path"
      ],
      "metadata": {
        "id": "sk81mooSbMgQ"
      }
    },
    {
      "cell_type": "code",
      "source": [
        "split_graph = getSplitGraph(start, end, data_map)\n",
        "longestGraphPath(start, end, split_graph)"
      ],
      "metadata": {
        "colab": {
          "base_uri": "https://localhost:8080/"
        },
        "id": "Bhtw0DvtpzeK",
        "outputId": "52f4e7ad-f122-4915-dfd2-27cc6c03ebaa"
      },
      "execution_count": 10,
      "outputs": [
        {
          "output_type": "execute_result",
          "data": {
            "text/plain": [
              "6526"
            ]
          },
          "metadata": {},
          "execution_count": 10
        }
      ]
    }
  ]
}