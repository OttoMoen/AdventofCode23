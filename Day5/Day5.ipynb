{
  "nbformat": 4,
  "nbformat_minor": 0,
  "metadata": {
    "colab": {
      "provenance": []
    },
    "kernelspec": {
      "name": "python3",
      "display_name": "Python 3"
    },
    "language_info": {
      "name": "python"
    }
  },
  "cells": [
    {
      "cell_type": "markdown",
      "source": [
        "# Advent of Code 2023: Day 5\n",
        "https://adventofcode.com/2023/day/5\n"
      ],
      "metadata": {
        "id": "e7qDcWW3JF8G"
      }
    },
    {
      "cell_type": "markdown",
      "source": [
        "## Part 1\n",
        "Find the lowest ranked location of the given seeds"
      ],
      "metadata": {
        "id": "krtSVL3uJOQC"
      }
    },
    {
      "cell_type": "markdown",
      "source": [
        "### Get the first row of data into a list of integers"
      ],
      "metadata": {
        "id": "Jc2_NXw63k49"
      }
    },
    {
      "cell_type": "code",
      "source": [
        "myfile = open('input.txt', 'r')\n",
        "data = myfile.read()\n",
        "data_list = data.split('\\n')\n",
        "seeds = list(map(int, data_list.pop(0).split(': ')[1].split(' ')))"
      ],
      "metadata": {
        "id": "xQfXHvPiJQrT"
      },
      "execution_count": 146,
      "outputs": []
    },
    {
      "cell_type": "markdown",
      "source": [
        "### Get the rest of the data into a dictionary. w\n",
        "The keys are the different maps, and the values are lists of lists, where each inner list corresponds to a line from the input."
      ],
      "metadata": {
        "id": "CgbFdm4X-L6-"
      }
    },
    {
      "cell_type": "code",
      "source": [
        "data_map = {}\n",
        "while data_list:\n",
        "  curr = data_list.pop(0)\n",
        "  if not curr:\n",
        "    continue\n",
        "  if curr[0].isalpha():\n",
        "    data_map[curr[:-5]] = []\n",
        "    key = curr[:-5]\n",
        "  if curr[0].isnumeric():\n",
        "    tmp = curr.split(' ')\n",
        "    data_map[key].append(list(map(int, tmp)))"
      ],
      "metadata": {
        "id": "HFgkShG30zZh"
      },
      "execution_count": 147,
      "outputs": []
    },
    {
      "cell_type": "markdown",
      "source": [
        "### Define two functions\n",
        "An inner function to convert a value using a single map, and an outer function to convert all the way from seed to location."
      ],
      "metadata": {
        "id": "reUfqN5u-jAX"
      }
    },
    {
      "cell_type": "code",
      "source": [
        "def convertValue(value, conversion_map, data_map):\n",
        "  for range in data_map[conversion_map]:\n",
        "    if value >= range[1] and value <= range[1]+range[2]-1:\n",
        "      tmp = value - range[1]\n",
        "      return range[0] + tmp\n",
        "  return value\n",
        "\n",
        "def seedToLocation(value, data_map):\n",
        "  for i in data_map.keys():\n",
        "    value = convertValue(value, i, data_map)\n",
        "  return value"
      ],
      "metadata": {
        "id": "XEwJHi2A6F7q"
      },
      "execution_count": 148,
      "outputs": []
    },
    {
      "cell_type": "markdown",
      "source": [
        "### Find the lowest location"
      ],
      "metadata": {
        "id": "E3my00ea-uvK"
      }
    },
    {
      "cell_type": "code",
      "source": [
        "min_location = -1\n",
        "\n",
        "for seed in seeds:\n",
        "  location = seedToLocation(seed, data_map)\n",
        "  if min_location < 0:\n",
        "    min_location = location\n",
        "  else:\n",
        "    if location < min_location:\n",
        "      min_location = location\n",
        "\n",
        "min_location"
      ],
      "metadata": {
        "colab": {
          "base_uri": "https://localhost:8080/"
        },
        "id": "58ukLXGR9HE4",
        "outputId": "fe67dde4-c013-4658-f4ae-9f8046697dc1"
      },
      "execution_count": 149,
      "outputs": [
        {
          "output_type": "execute_result",
          "data": {
            "text/plain": [
              "579439039"
            ]
          },
          "metadata": {},
          "execution_count": 149
        }
      ]
    },
    {
      "cell_type": "markdown",
      "source": [
        "## Part 2\n",
        "Find the lowest ranked location of the given seeds, with a different way to read the seed data"
      ],
      "metadata": {
        "id": "iYy0w69z_KES"
      }
    },
    {
      "cell_type": "markdown",
      "source": [
        "### Create reverse versions of the previous functions"
      ],
      "metadata": {
        "id": "eRVfRB-_O0XI"
      }
    },
    {
      "cell_type": "code",
      "source": [
        "def rconvertValue(value, conversion_map, data_map):\n",
        "  for range in data_map[conversion_map]:\n",
        "    if value >= range[0] and value <= range[0]+range[2]-1:\n",
        "      tmp = value - range[0]\n",
        "      return range[1] + tmp\n",
        "  return value\n",
        "\n",
        "def locationToSeed(value, data_map):\n",
        "  for i in reversed(data_map.keys()):\n",
        "    value = rconvertValue(value, i, data_map)\n",
        "  return value"
      ],
      "metadata": {
        "id": "IB7QRikwLjzc"
      },
      "execution_count": 150,
      "outputs": []
    },
    {
      "cell_type": "markdown",
      "source": [
        "### Go through each location and convert it back to a seed, then check if this seed exists in the different seed ranges.\n",
        "\n",
        "Brute force method, not very efficient."
      ],
      "metadata": {
        "id": "cgZSSTHJO6G9"
      }
    },
    {
      "cell_type": "code",
      "source": [
        "i = 0\n",
        "searching = True\n",
        "while searching:\n",
        "  s = locationToSeed(i, data_map)\n",
        "  for r, seed in enumerate(seeds[::2]):\n",
        "    if s >= seed and s <= seed+seeds[1::2][r]-1:\n",
        "      searching = False\n",
        "      break\n",
        "  i +=1\n",
        "\n",
        "i-1"
      ],
      "metadata": {
        "colab": {
          "base_uri": "https://localhost:8080/"
        },
        "id": "pFRgBp6I_-u3",
        "outputId": "99b35854-ea57-4917-ee30-9aff06f431fa"
      },
      "execution_count": 151,
      "outputs": [
        {
          "output_type": "execute_result",
          "data": {
            "text/plain": [
              "7873084"
            ]
          },
          "metadata": {},
          "execution_count": 151
        }
      ]
    }
  ]
}