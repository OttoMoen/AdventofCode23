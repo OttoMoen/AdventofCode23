{
  "nbformat": 4,
  "nbformat_minor": 0,
  "metadata": {
    "colab": {
      "provenance": []
    },
    "kernelspec": {
      "name": "python3",
      "display_name": "Python 3"
    },
    "language_info": {
      "name": "python"
    }
  },
  "cells": [
    {
      "cell_type": "markdown",
      "source": [
        "# Advent of Code 2023: Day 10\n",
        "https://adventofcode.com/2023/day/10\n"
      ],
      "metadata": {
        "id": "e7qDcWW3JF8G"
      }
    },
    {
      "cell_type": "markdown",
      "source": [
        "## Part 1\n",
        "Calculate how many steps away (from the starting point) the farthest point is in a loop."
      ],
      "metadata": {
        "id": "krtSVL3uJOQC"
      }
    },
    {
      "cell_type": "markdown",
      "source": [
        "### Get the data into a list of lists of characters\n"
      ],
      "metadata": {
        "id": "Jc2_NXw63k49"
      }
    },
    {
      "cell_type": "code",
      "source": [
        "myfile = open('input.txt', 'r')\n",
        "data = myfile.read()\n",
        "data_list = data.split('\\n')\n",
        "data_map = []\n",
        "for line in data_list:\n",
        "  data_map.append(list(line))"
      ],
      "metadata": {
        "id": "xQfXHvPiJQrT"
      },
      "execution_count": 223,
      "outputs": []
    },
    {
      "cell_type": "markdown",
      "source": [
        "### Create function to find the starting position"
      ],
      "metadata": {
        "id": "LX7GPjitlNnM"
      }
    },
    {
      "cell_type": "code",
      "source": [
        "def findStart(input_map, symbol):\n",
        "  for i in range(len(data_map)):\n",
        "    for j in range(len(data_map[0])):\n",
        "      if input_map[i][j] == symbol:\n",
        "        res = [i,j]\n",
        "        return res\n",
        "  return 'No starting position found'"
      ],
      "metadata": {
        "id": "K57prPAxWKaO"
      },
      "execution_count": 224,
      "outputs": []
    },
    {
      "cell_type": "markdown",
      "source": [
        "### Create function to find which directions the loop starts from\n",
        "As it's a loop, it is enough to return just one direction"
      ],
      "metadata": {
        "id": "IkdUBMBclRCd"
      }
    },
    {
      "cell_type": "code",
      "source": [
        "def findLoop(input_map, start):\n",
        "  dirs = [[-1,0],[1,0],[0,-1],[0,1]]\n",
        "  dirs_symbols = [['|', '7', 'F'],['|', 'J', 'L'],['-', 'L', 'F'],['-', '7', 'J']]\n",
        "  possible = [] #[up, down, left, right]\n",
        "  for i in range(4):\n",
        "    if input_map[start[0]+dirs[i][0]][start[1]+dirs[i][1]] in dirs_symbols[i]:\n",
        "      possible.append(1)\n",
        "    else:\n",
        "      possible.append(0)\n",
        "\n",
        "  return ['u','d','l','r'][possible.index(1)]"
      ],
      "metadata": {
        "id": "DEmVzyCcav8C"
      },
      "execution_count": 225,
      "outputs": []
    },
    {
      "cell_type": "markdown",
      "source": [
        "### Create function to traverse the loop from start to finish and count the number of steps required\n",
        "To find the halfway point, set the divider to 2"
      ],
      "metadata": {
        "id": "l-nKXul1lkRi"
      }
    },
    {
      "cell_type": "code",
      "source": [
        "def traverseLoop(input_map, start, symbol, dir, div=1, return_loop=False):\n",
        "  dirs = {\n",
        "      'u': [-1,0],\n",
        "      'd': [1,0],\n",
        "      'l': [0,-1],\n",
        "      'r': [0,1]\n",
        "  }\n",
        "\n",
        "  dirs_symbols = {\n",
        "      'u': {'|': 'u',\n",
        "            '7': 'l',\n",
        "            'F': 'r'},\n",
        "      'd': {'|' :'d',\n",
        "            'J': 'l',\n",
        "            'L': 'r'},\n",
        "      'l': {'-': 'l',\n",
        "            'L': 'u',\n",
        "            'F': 'd'},\n",
        "      'r': {'-': 'r',\n",
        "            'J': 'u',\n",
        "            '7': 'd'}\n",
        "  }\n",
        "  curr = start\n",
        "  curr_dir = dir\n",
        "  loop = {str(start): [start, symbol, dir]}\n",
        "  steps = 0\n",
        "  while True:\n",
        "    steps +=1\n",
        "    curr = [curr[0]+dirs[curr_dir][0], curr[1]+dirs[curr_dir][1]]\n",
        "    if input_map[curr[0]][curr[1]] == symbol:\n",
        "      if return_loop:\n",
        "        return loop\n",
        "      else:\n",
        "        return steps // div\n",
        "    loop[str(curr)] = [curr, input_map[curr[0]][curr[1]], curr_dir]\n",
        "    curr_dir = dirs_symbols[curr_dir][input_map[curr[0]][curr[1]]]"
      ],
      "metadata": {
        "id": "pYdeAjlJenOA"
      },
      "execution_count": 226,
      "outputs": []
    },
    {
      "cell_type": "markdown",
      "source": [
        "### Calculate the farthest point"
      ],
      "metadata": {
        "id": "dXYhLfrXmGLa"
      }
    },
    {
      "cell_type": "code",
      "source": [
        "start_pos = findStart(data_map, 'S')\n",
        "start_dir = findLoop(data_map, start_pos)\n",
        "traverseLoop(data_map, start_pos, 'S', start_dir, 2)"
      ],
      "metadata": {
        "colab": {
          "base_uri": "https://localhost:8080/"
        },
        "id": "fzPQVsSdjgoe",
        "outputId": "f6106243-658e-4b1f-9e77-cbc82e316f0c"
      },
      "execution_count": 227,
      "outputs": [
        {
          "output_type": "execute_result",
          "data": {
            "text/plain": [
              "6806"
            ]
          },
          "metadata": {},
          "execution_count": 227
        }
      ]
    },
    {
      "cell_type": "markdown",
      "source": [
        "## Part 2\n",
        "Find the number of tiles enclosed by the loop"
      ],
      "metadata": {
        "id": "yiKeMv3lJPM_"
      }
    },
    {
      "cell_type": "markdown",
      "source": [
        "### Create function to find out what symbol the starting 'S' should actually be"
      ],
      "metadata": {
        "id": "aGw4Je7pi0vW"
      }
    },
    {
      "cell_type": "code",
      "source": [
        "def findStartSymbol(loop_data):\n",
        "  neighbours = [loop_data[list(loop_data.keys())[1]][0],loop_data[list(loop_data.keys())[-1]][0]]\n",
        "  if neighbours[0][0] == neighbours[1][0]:\n",
        "    return '-'\n",
        "  elif neighbours[0][1] == neighbours[1][1]:\n",
        "    return '|'\n",
        "  else:\n",
        "    start = loop_data[list(loop_data.keys())[0]][0]\n",
        "    if [start[0]-1,start[1]] in neighbours:\n",
        "      if[start[0],start[1]-1] in neighbours:\n",
        "        return 'J'\n",
        "      else:\n",
        "        return 'L'\n",
        "    elif [start[0]+1,start[1]] in neighbours:\n",
        "      if [start[0],start[1]-1] in neighbours:\n",
        "        return '7'\n",
        "      else:\n",
        "        return 'F'"
      ],
      "metadata": {
        "id": "Rao3lGLI8Iq2"
      },
      "execution_count": 243,
      "outputs": []
    },
    {
      "cell_type": "markdown",
      "source": [
        "### Retrieve the loop, go through all non-loop tiles and compute if they are enclosed or not enclosed by the loop\n",
        "This is done by calculating how many times a line drawn from the tile to the edge of the map intersects lines of the loop. If it intersects an even number of times it is outside the loop, if an odd number it is enclosed by the loop."
      ],
      "metadata": {
        "id": "EYPGwuoai5vY"
      }
    },
    {
      "cell_type": "code",
      "source": [
        "loop = traverseLoop(data_map, start_pos, 'S', start_dir, return_loop=True)\n",
        "loop_locations = list(loop.keys())\n",
        "start_symbol = findStartSymbol(loop)\n",
        "loop[loop_locations[0]][1] = start_symbol\n",
        "tile_count = 0\n",
        "for i in range(len(data_map)):\n",
        "  for j in range(len(data_map[0])):\n",
        "    if (i != 0) and (j != 0) and (i != len(data_map)-1) and (j != len(data_map[0])-1):\n",
        "      if str([i,j]) not in loop_locations:\n",
        "        l = 0\n",
        "        c = 0\n",
        "        while l < j:\n",
        "          if str([i,l]) in loop_locations:\n",
        "            if loop[str([i,l])][1] == 'L':\n",
        "              while loop[str([i,l+1])][1] == '-':\n",
        "                l +=1\n",
        "              if loop[str([i,l+1])][1] == 'J':\n",
        "                c +=1\n",
        "              l +=1\n",
        "            elif loop[str([i,l])][1] == 'F':\n",
        "              while loop[str([i,l+1])][1] == '-':\n",
        "                l +=1\n",
        "              if loop[str([i,l+1])][1] == '7':\n",
        "                c +=1\n",
        "              l +=1\n",
        "            else:\n",
        "              c +=1\n",
        "              l +=1\n",
        "          else:\n",
        "            l +=1\n",
        "        if c%2 != 0:\n",
        "          tile_count += 1\n",
        "\n",
        "tile_count"
      ],
      "metadata": {
        "colab": {
          "base_uri": "https://localhost:8080/"
        },
        "id": "OHPIGjzz34Nc",
        "outputId": "831cd642-bcb6-4d9a-9d39-68d0de7751e6"
      },
      "execution_count": 244,
      "outputs": [
        {
          "output_type": "execute_result",
          "data": {
            "text/plain": [
              "449"
            ]
          },
          "metadata": {},
          "execution_count": 244
        }
      ]
    }
  ]
}