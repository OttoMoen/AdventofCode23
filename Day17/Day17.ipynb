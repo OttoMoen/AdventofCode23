{
  "nbformat": 4,
  "nbformat_minor": 0,
  "metadata": {
    "colab": {
      "provenance": []
    },
    "kernelspec": {
      "name": "python3",
      "display_name": "Python 3"
    },
    "language_info": {
      "name": "python"
    }
  },
  "cells": [
    {
      "cell_type": "markdown",
      "source": [
        "# Advent of Code 2023: Day 17\n",
        "https://adventofcode.com/2023/day/17\n"
      ],
      "metadata": {
        "id": "e7qDcWW3JF8G"
      }
    },
    {
      "cell_type": "markdown",
      "source": [
        "## Part 1\n",
        "Find the amount of heat loss from the most efficient path"
      ],
      "metadata": {
        "id": "krtSVL3uJOQC"
      }
    },
    {
      "cell_type": "markdown",
      "source": [
        "### Get the data into a list of lists of ints"
      ],
      "metadata": {
        "id": "Jc2_NXw63k49"
      }
    },
    {
      "cell_type": "code",
      "source": [
        "myfile = open('input.txt', 'r')\n",
        "data = myfile.read()\n",
        "data_list = data.split('\\n')\n",
        "data_list = [list(map(int, list(line))) for line in data_list]"
      ],
      "metadata": {
        "id": "xQfXHvPiJQrT"
      },
      "execution_count": 1,
      "outputs": []
    },
    {
      "cell_type": "markdown",
      "source": [
        "### Create function to find the valid neighbors of a cell\n",
        "The min_step and max_step functions allow for controlling how far in a straight line one must/can go before turning."
      ],
      "metadata": {
        "id": "Hz82UNm1yEwR"
      }
    },
    {
      "cell_type": "code",
      "source": [
        "def getNeighbors(pos, data, min_step = 0, max_step = 3):\n",
        "  nrows = len(data)\n",
        "  ncols = len(data[0])\n",
        "  row = pos[1][0]\n",
        "  col = pos[1][1]\n",
        "  dir = pos[2][0]\n",
        "  steps = pos[2][1]\n",
        "  neighbors = []\n",
        "\n",
        "  if (row > 0) and (dir != 'd') and ((dir != 'u' and steps > min_step-1) or (dir == 'u' and steps <max_step)):\n",
        "    if dir == 'u':\n",
        "      s = steps +1\n",
        "    else:\n",
        "      s = 1\n",
        "    neighbors.append([[row-1, col],['u', s]])\n",
        "\n",
        "  if (row < nrows-1) and (dir != 'u') and ((dir != 'd' and steps > min_step-1) or (dir == 'd' and steps <max_step)):\n",
        "    if dir == 'd':\n",
        "      s = steps +1\n",
        "    else:\n",
        "      s = 1\n",
        "    neighbors.append([[row+1, col],['d', s]])\n",
        "\n",
        "  if (col > 0) and (dir != 'r') and ((dir != 'l' and steps > min_step-1) or (dir == 'l' and steps <max_step)):\n",
        "    if dir =='l':\n",
        "      s = steps +1\n",
        "    else:\n",
        "      s = 1\n",
        "    neighbors.append([[row, col-1],['l', s]])\n",
        "\n",
        "  if (col < ncols-1) and (dir != 'l') and ((dir != 'r' and steps > min_step-1) or (dir == 'r' and steps <max_step)):\n",
        "    if dir == 'r':\n",
        "      s = steps+1\n",
        "    else:\n",
        "      s = 1\n",
        "    neighbors.append([[row, col+1],['r', s]])\n",
        "\n",
        "  return neighbors"
      ],
      "metadata": {
        "id": "EgjG_GvfmXML"
      },
      "execution_count": 2,
      "outputs": []
    },
    {
      "cell_type": "markdown",
      "source": [
        "### Create a function to perform Dijkstras shortest path algorithm"
      ],
      "metadata": {
        "id": "opSRr_XXybtl"
      }
    },
    {
      "cell_type": "code",
      "source": [
        "import heapq\n",
        "def dijkstra(start, end, data, min_step = 0, max_step = 3):\n",
        "  explore_q = []\n",
        "  visited = set()\n",
        "  explore_q.append(start)\n",
        "  visited.add(str(start))\n",
        "\n",
        "  while explore_q:\n",
        "    cur = heapq.heappop(explore_q)\n",
        "    neighbors = getNeighbors(cur, data, min_step, max_step)\n",
        "\n",
        "    for neighbor in neighbors:\n",
        "      if str(neighbor) not in visited:\n",
        "        new_dist = cur[0] + data[neighbor[0][0]][neighbor[0][1]]\n",
        "        heapq.heappush(explore_q, [new_dist]+neighbor)\n",
        "        visited.add(str(neighbor))\n",
        "        if neighbor[0] == end and neighbor[1][1] > min_step-1:\n",
        "          return new_dist"
      ],
      "metadata": {
        "id": "MAsG7TwA2Hw7"
      },
      "execution_count": 3,
      "outputs": []
    },
    {
      "cell_type": "markdown",
      "source": [
        "### Calculate the minimum amount of heat loss\n",
        "Can only go 3 steps in a straight line before having to turn"
      ],
      "metadata": {
        "id": "z2ChIJp5yhFH"
      }
    },
    {
      "cell_type": "code",
      "source": [
        "start = [0, [0,0],[None, 1]]\n",
        "end = [len(data_list)-1, len(data_list[0])-1]\n",
        "heat_loss = dijkstra(start, end, data_list)\n",
        "heat_loss"
      ],
      "metadata": {
        "colab": {
          "base_uri": "https://localhost:8080/"
        },
        "id": "YnI5MH3R7AHo",
        "outputId": "7e663b63-b58b-4826-deef-6d87116c554f"
      },
      "execution_count": 4,
      "outputs": [
        {
          "output_type": "execute_result",
          "data": {
            "text/plain": [
              "694"
            ]
          },
          "metadata": {},
          "execution_count": 4
        }
      ]
    },
    {
      "cell_type": "markdown",
      "source": [
        "## Part 2\n",
        "Find the amount of heat loss from the most efficient path, this time with a minimum step amount of 4, and a maximum of 10."
      ],
      "metadata": {
        "id": "yiKeMv3lJPM_"
      }
    },
    {
      "cell_type": "code",
      "source": [
        "start = [0, [0,0],[None, 10]]\n",
        "end = [len(data_list)-1, len(data_list[0])-1]\n",
        "heat_loss = dijkstra(start, end, data_list, min_step=4, max_step=10)\n",
        "heat_loss"
      ],
      "metadata": {
        "colab": {
          "base_uri": "https://localhost:8080/"
        },
        "id": "MGGKu7Zqs_he",
        "outputId": "e1062cde-edf5-41e2-fff2-488944587094"
      },
      "execution_count": 5,
      "outputs": [
        {
          "output_type": "execute_result",
          "data": {
            "text/plain": [
              "829"
            ]
          },
          "metadata": {},
          "execution_count": 5
        }
      ]
    }
  ]
}