{
  "nbformat": 4,
  "nbformat_minor": 0,
  "metadata": {
    "colab": {
      "provenance": []
    },
    "kernelspec": {
      "name": "python3",
      "display_name": "Python 3"
    },
    "language_info": {
      "name": "python"
    }
  },
  "cells": [
    {
      "cell_type": "markdown",
      "source": [
        "# Advent of Code 2023: Day 20\n",
        "https://adventofcode.com/2023/day/20\n"
      ],
      "metadata": {
        "id": "e7qDcWW3JF8G"
      }
    },
    {
      "cell_type": "markdown",
      "source": [
        "## Part 1\n",
        "Count the number of low and high pulses sent after 1000 button presses"
      ],
      "metadata": {
        "id": "krtSVL3uJOQC"
      }
    },
    {
      "cell_type": "code",
      "source": [
        "from math import lcm"
      ],
      "metadata": {
        "id": "RuQS1gvNiA88"
      },
      "execution_count": 1,
      "outputs": []
    },
    {
      "cell_type": "markdown",
      "source": [
        "### Get the data into a list of strings"
      ],
      "metadata": {
        "id": "Jc2_NXw63k49"
      }
    },
    {
      "cell_type": "code",
      "source": [
        "myfile = open('input.txt', 'r')\n",
        "data = myfile.read()\n",
        "data_list = data.split('\\n')"
      ],
      "metadata": {
        "id": "xQfXHvPiJQrT"
      },
      "execution_count": 2,
      "outputs": []
    },
    {
      "cell_type": "markdown",
      "source": [
        "### Create function to process the list into a dictionary\n",
        "The items in the dictionary will take different forms depending on their type of module.\n",
        "\n",
        "A broadcast module:\n",
        "* name: [list of outputs]\n",
        "  * 'broadcaster': ['a', 'b', 'c']\n",
        "\n",
        "A flip-flop module:\n",
        "* name: ['off or on', [list of outputs]]\n",
        "  * 'a': ['off', ['b']]\n",
        "\n",
        "A conjunction module:\n",
        "* name: [[dict of inputs and their last pulse], [list of outputs]]\n",
        "  * 'e': [{'c': 'low', 'd': 'high'}, ['f', 'g']]\n",
        "\n",
        "Also create an identical copy of the dictionary for later comparison (turned out to not be needed)"
      ],
      "metadata": {
        "id": "Yy-ATcRpodcp"
      }
    },
    {
      "cell_type": "code",
      "source": [
        "def preprocess(data_list):\n",
        "  data_dict = {}\n",
        "  data_dict_start = {}\n",
        "  for line in data_list:\n",
        "    tmp = line.split(' -> ')\n",
        "    if tmp[0] == 'broadcaster':\n",
        "      data_dict[tmp[0]] = tmp[1].split(', ')\n",
        "      data_dict_start[tmp[0]] = tmp[1].split(', ')\n",
        "    elif tmp[0][0] == '%':\n",
        "      data_dict[tmp[0][1:]] = ['off', tmp[1].split(', ')]\n",
        "      data_dict_start[tmp[0][1:]] = ['off', tmp[1].split(', ')]\n",
        "    elif tmp[0][0] == '&':\n",
        "      data_dict[tmp[0][1:]] = [{}, tmp[1].split(', ')]\n",
        "      data_dict_start[tmp[0][1:]] = [{}, tmp[1].split(', ')]\n",
        "\n",
        "  for key, value in data_dict.items():\n",
        "    if key != 'broadcaster':\n",
        "      for module in value [1]:\n",
        "        if module in data_dict.keys():\n",
        "          if isinstance(data_dict[module][0], dict):\n",
        "            data_dict[module][0][key] = 'low'\n",
        "            data_dict_start[module][0][key] = 'low'\n",
        "  return data_dict, data_dict_start"
      ],
      "metadata": {
        "id": "rfO9I1ujGLJA"
      },
      "execution_count": 3,
      "outputs": []
    },
    {
      "cell_type": "markdown",
      "source": [
        "### Create function which handles a module recieving a pulse\n",
        "\n",
        "Does not need to be implemented for the broadcaster module"
      ],
      "metadata": {
        "id": "7flyrSlUqyf4"
      }
    },
    {
      "cell_type": "code",
      "source": [
        "def recievePulse(strength, sender, reciever, data_dict):\n",
        "  tmp = data_dict[reciever][0]\n",
        "  if isinstance(tmp, str):\n",
        "    if strength == 'high':\n",
        "      return None, data_dict\n",
        "    else:\n",
        "      if tmp == 'off':\n",
        "        data_dict[reciever][0] = 'on'\n",
        "        return 'high', data_dict\n",
        "      else:\n",
        "        data_dict[reciever][0] = 'off'\n",
        "        return 'low', data_dict\n",
        "  else:\n",
        "    data_dict[reciever][0][sender] = strength\n",
        "    if all(val == 'high' for val in data_dict[reciever][0].values()):\n",
        "      return 'low', data_dict\n",
        "    else:\n",
        "      return 'high',data_dict"
      ],
      "metadata": {
        "id": "MsstRWypKwqP"
      },
      "execution_count": 4,
      "outputs": []
    },
    {
      "cell_type": "markdown",
      "source": [
        "### Create function to simulate the push of a button\n",
        "\n",
        "Create a queue of pulses that have to be sent and add the initial pulses sent out by the broadcaster module to it. Afterwards, process pulses until there are no more to send."
      ],
      "metadata": {
        "id": "FyFghZMvrL1l"
      }
    },
    {
      "cell_type": "code",
      "source": [
        "def pushButton(pulse_count, data_dict, target = False):\n",
        "  send_q = []\n",
        "  pulse_count['low'] +=1\n",
        "  target_count = {\n",
        "      'low': 0,\n",
        "      'high': 0\n",
        "  }\n",
        "  for module in data_dict['broadcaster']:\n",
        "    send_q.append(['low', 'broadcaster', module])\n",
        "  while send_q:\n",
        "    cur = send_q.pop(0)\n",
        "    pulse_count[cur[0]] +=1\n",
        "    strength, data_dict = recievePulse(cur[0], cur[1], cur[2], data_dict)\n",
        "    if strength is not None:\n",
        "      for module in data_dict[cur[2]][1]:\n",
        "        if module in data_dict.keys():\n",
        "          send_q.append([strength, cur[2], module])\n",
        "          if cur[2] == target:\n",
        "            target_count[strength] += 1\n",
        "        else:\n",
        "          pulse_count[strength] +=1\n",
        "  if target:\n",
        "    return pulse_count, data_dict, target_count\n",
        "  else:\n",
        "    return pulse_count, data_dict"
      ],
      "metadata": {
        "id": "pVNr3sMjKm54"
      },
      "execution_count": 5,
      "outputs": []
    },
    {
      "cell_type": "markdown",
      "source": [
        "### Create function to push the button **_n_** number of times\n",
        "\n",
        "To speed it up, look for a cycle, i.e. when the state of all modules is back to their initial settings. Then the pulse counts can be multiplied with the number of cycles, and if this does not add up evenly to n, push the button a few more times.\n",
        "\n",
        "Again, this did not end up being needed as _n_ is lower than the length of a cycle."
      ],
      "metadata": {
        "id": "DrHGQXPcrhZb"
      }
    },
    {
      "cell_type": "code",
      "source": [
        "def pushButtons(pulse_count, data_dict, data_dict_start, n):\n",
        "  cycle_length = 0\n",
        "  for i in range(n):\n",
        "    pulse_count, data_dict = pushButton(pulse_count, data_dict)\n",
        "    if data_dict == data_dict_start:\n",
        "      cycle_length = i+1\n",
        "      break\n",
        "\n",
        "  if cycle_length != 0:\n",
        "    remain = n % cycle_length\n",
        "    mult = n // cycle_length\n",
        "    pulse_count['low'] *= mult\n",
        "    pulse_count['high'] *= mult\n",
        "    for i in range(remain):\n",
        "      pulse_count, data_dict = pushButton(pulse_count, data_dict)\n",
        "  return pulse_count, data_dict"
      ],
      "metadata": {
        "id": "xjEERPhiTDhc"
      },
      "execution_count": 6,
      "outputs": []
    },
    {
      "cell_type": "markdown",
      "source": [
        "### Count the number of low and high pulses after pressing the button 1000 times and multiply the two"
      ],
      "metadata": {
        "id": "Klns7Ar9s8V4"
      }
    },
    {
      "cell_type": "code",
      "source": [
        "pulse_count = {\n",
        "      'low': 0,\n",
        "      'high': 0\n",
        "  }\n",
        "n = 1000\n",
        "data_dict, data_dict_start = preprocess(data_list)\n",
        "pulse_count, data_dict = pushButtons(pulse_count, data_dict, data_dict_start, n)\n",
        "pulse_count['low'] * pulse_count['high']"
      ],
      "metadata": {
        "colab": {
          "base_uri": "https://localhost:8080/"
        },
        "id": "Tk94InBtOZw-",
        "outputId": "3bc01ca1-f3ba-4fc3-cd48-45f027c2e682"
      },
      "execution_count": 7,
      "outputs": [
        {
          "output_type": "execute_result",
          "data": {
            "text/plain": [
              "711650489"
            ]
          },
          "metadata": {},
          "execution_count": 7
        }
      ]
    },
    {
      "cell_type": "markdown",
      "source": [
        "## Part 2\n",
        "Count the number of button presses required to deliver a single low pulse to the module named rx"
      ],
      "metadata": {
        "id": "yiKeMv3lJPM_"
      }
    },
    {
      "cell_type": "markdown",
      "source": [
        "### Create function to find how many button presses it takes to deliver a single low pulse to the target node\n",
        "\n",
        "To speed up this process, go backwards and look where the target should get the low pulse from. As this is a conjunction module, retrieve a list of its input modules.\n",
        "\n",
        "Then, for each of these modules, find how many times the button should be pressed until the module sends a single high pulse (if each of the modules sends a single high pulse, the conjunction module should send a single low pulse to the target) and store it in a list.\n",
        "\n",
        "Finally, go through the list and perform **lcm** to find where these numbers will converge."
      ],
      "metadata": {
        "id": "T-57l52mtLc1"
      }
    },
    {
      "cell_type": "code",
      "source": [
        "def startMachine(pulse_count, data_dict, target):\n",
        "  i = 0\n",
        "  j = 0\n",
        "\n",
        "  for key, value in data_dict.items():\n",
        "    if value[1] == [target]:\n",
        "      targets = list(value[0].keys())\n",
        "      break\n",
        "\n",
        "  pushes = []\n",
        "  while j < len(targets):\n",
        "    i+=1\n",
        "    pulse_count, data_dict, target_count = pushButton(pulse_count, data_dict, targets[j])\n",
        "    if target_count['high'] == 1:\n",
        "      pushes.append(i)\n",
        "      i = 0\n",
        "      j +=1\n",
        "      data_dict,_ = preprocess(data_list)\n",
        "\n",
        "  total = 1\n",
        "  for num in pushes:\n",
        "    total = lcm(total, num)\n",
        "  return total"
      ],
      "metadata": {
        "id": "dbYkmm-MhH1g"
      },
      "execution_count": 8,
      "outputs": []
    },
    {
      "cell_type": "markdown",
      "source": [
        "### Find the number of pushes required"
      ],
      "metadata": {
        "id": "X3zx1YVbuzu5"
      }
    },
    {
      "cell_type": "code",
      "source": [
        "data_dict,_ = preprocess(data_list)\n",
        "startMachine(pulse_count, data_dict, 'rx')"
      ],
      "metadata": {
        "colab": {
          "base_uri": "https://localhost:8080/"
        },
        "id": "q9Jw51DGe1T4",
        "outputId": "2537ad71-4acc-42ed-f312-711a6e9b34c4"
      },
      "execution_count": 9,
      "outputs": [
        {
          "output_type": "execute_result",
          "data": {
            "text/plain": [
              "219388737656593"
            ]
          },
          "metadata": {},
          "execution_count": 9
        }
      ]
    }
  ]
}
