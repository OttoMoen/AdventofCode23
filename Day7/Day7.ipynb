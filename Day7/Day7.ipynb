{
  "nbformat": 4,
  "nbformat_minor": 0,
  "metadata": {
    "colab": {
      "provenance": []
    },
    "kernelspec": {
      "name": "python3",
      "display_name": "Python 3"
    },
    "language_info": {
      "name": "python"
    }
  },
  "cells": [
    {
      "cell_type": "markdown",
      "source": [
        "# Advent of Code 2023: Day 7\n",
        "https://adventofcode.com/2023/day/7\n"
      ],
      "metadata": {
        "id": "e7qDcWW3JF8G"
      }
    },
    {
      "cell_type": "markdown",
      "source": [
        "## Part 1\n",
        "Find the sum of all winnings, multiplied by their rank in a 'poker' game"
      ],
      "metadata": {
        "id": "krtSVL3uJOQC"
      }
    },
    {
      "cell_type": "markdown",
      "source": [
        "### Get the data into a dictionary"
      ],
      "metadata": {
        "id": "Jc2_NXw63k49"
      }
    },
    {
      "cell_type": "code",
      "source": [
        "myfile = open('input.txt', 'r')\n",
        "data = myfile.read()\n",
        "data_list = data.split('\\n')\n",
        "game_data = {}\n",
        "for i in data_list:\n",
        "  game_data[i.split()[0]] = int(i.split()[1])"
      ],
      "metadata": {
        "id": "xQfXHvPiJQrT"
      },
      "execution_count": 130,
      "outputs": []
    },
    {
      "cell_type": "markdown",
      "source": [
        "### Set up the rules of the game as two dictionaries"
      ],
      "metadata": {
        "id": "KUny03PSbwdS"
      }
    },
    {
      "cell_type": "code",
      "source": [
        "card_rank = {\n",
        "    'A': 14,\n",
        "    'K': 13,\n",
        "    'Q': 12,\n",
        "    'J': 11,\n",
        "    'T': 10,\n",
        "    '9': 9,\n",
        "    '8': 8,\n",
        "    '7': 7,\n",
        "    '6': 6,\n",
        "    '5': 5,\n",
        "    '4': 4,\n",
        "    '3': 3,\n",
        "    '2': 2\n",
        "}\n",
        "\n",
        "hand_rank = {\n",
        "    'five': 7,\n",
        "    'four': 6,\n",
        "    'full': 5,\n",
        "    'three': 4,\n",
        "    'two': 3,\n",
        "    'one': 2,\n",
        "    'high':1\n",
        "}"
      ],
      "metadata": {
        "id": "MdoVSTtPLzC0"
      },
      "execution_count": 131,
      "outputs": []
    },
    {
      "cell_type": "markdown",
      "source": [
        "### Define functions to find the rank of a hand and for comparing two hands"
      ],
      "metadata": {
        "id": "Zzrzygddb0SX"
      }
    },
    {
      "cell_type": "code",
      "source": [
        "def findHandRank(hand, hand_rank=hand_rank):\n",
        "  if len(set(list(hand))) == 1:\n",
        "    return hand_rank['five']\n",
        "  unique_cards=list(dict(zip(list(hand),[list(hand).count(i) for i in list(hand)])).values())\n",
        "  if len(unique_cards) == 2:\n",
        "    if max(unique_cards) == 4:\n",
        "      return hand_rank['four']\n",
        "    else:\n",
        "      return hand_rank['full']\n",
        "  if len(unique_cards) == 3:\n",
        "    if max(unique_cards) == 3:\n",
        "      return hand_rank['three']\n",
        "    else:\n",
        "      return hand_rank['two']\n",
        "  if len(unique_cards) == 4:\n",
        "    return hand_rank['one']\n",
        "  return hand_rank['high']"
      ],
      "metadata": {
        "id": "JyMrimABMj6t"
      },
      "execution_count": 132,
      "outputs": []
    },
    {
      "cell_type": "code",
      "source": [
        "def compareHands(hand1, hand2, card_rank):\n",
        "  h1 = list(hand1)\n",
        "  h2 = list(hand2)\n",
        "\n",
        "  for i in range(len(hand1)):\n",
        "    if card_rank[h1[i]] > card_rank[h2[i]]:\n",
        "      return 1\n",
        "    elif card_rank[h1[i]] < card_rank[h2[i]]:\n",
        "      return -1\n",
        "  return 0"
      ],
      "metadata": {
        "id": "N7iIl3AkOlpt"
      },
      "execution_count": 133,
      "outputs": []
    },
    {
      "cell_type": "markdown",
      "source": [
        "### Calculate the total winnings"
      ],
      "metadata": {
        "id": "2-miQRnNcgX2"
      }
    },
    {
      "cell_type": "code",
      "source": [
        "ranks = {1:[],\n",
        "         2:[],\n",
        "         3:[],\n",
        "         4:[],\n",
        "         5:[],\n",
        "         6:[],\n",
        "         7:[],}\n",
        "for hand in game_data.keys():\n",
        "  r = findHandRank(hand, hand_rank)\n",
        "  ranks[r].append(hand)\n",
        "\n",
        "from functools import cmp_to_key, partial\n",
        "for key, value in ranks.items():\n",
        "  if value:\n",
        "    partial_keyfunc = partial(compareHands, card_rank=card_rank)\n",
        "    keyfunc = cmp_to_key(partial_keyfunc)\n",
        "    ranks[key].sort(key=keyfunc)\n",
        "\n",
        "total_winnings = 0\n",
        "rank = 1\n",
        "for i in ranks.keys():\n",
        "  for j in ranks[i]:\n",
        "    total_winnings += rank*game_data[j]\n",
        "    rank +=1\n",
        "\n",
        "total_winnings"
      ],
      "metadata": {
        "colab": {
          "base_uri": "https://localhost:8080/"
        },
        "id": "g-xc5HlkTRA2",
        "outputId": "240275eb-83a3-4aa4-918b-ff26d5698dd4"
      },
      "execution_count": 134,
      "outputs": [
        {
          "output_type": "execute_result",
          "data": {
            "text/plain": [
              "249726565"
            ]
          },
          "metadata": {},
          "execution_count": 134
        }
      ]
    },
    {
      "cell_type": "markdown",
      "source": [
        "## Part 2\n",
        "Find the sum of all winnings, multiplied by their rank in a 'poker' game, with joker cards instead of jacks"
      ],
      "metadata": {
        "id": "yiKeMv3lJPM_"
      }
    },
    {
      "cell_type": "markdown",
      "source": [
        "### Modify the card rank and the function to find the hand rank"
      ],
      "metadata": {
        "id": "bH7NEihmlxUH"
      }
    },
    {
      "cell_type": "code",
      "source": [
        "card_rank_joker = {\n",
        "    'A': 14,\n",
        "    'K': 13,\n",
        "    'Q': 12,\n",
        "    'T': 10,\n",
        "    '9': 9,\n",
        "    '8': 8,\n",
        "    '7': 7,\n",
        "    '6': 6,\n",
        "    '5': 5,\n",
        "    '4': 4,\n",
        "    '3': 3,\n",
        "    '2': 2,\n",
        "    'J': 1,\n",
        "}\n",
        "\n",
        "def findHandRankJoker(hand, hand_rank=hand_rank):\n",
        "  if len(set(list(hand))) == 1:\n",
        "    return hand_rank['five']\n",
        "  unique_cards=dict(zip(list(hand),[list(hand).count(i) for i in list(hand)]))\n",
        "  unique_cards_values = list(unique_cards.values())\n",
        "  if len(unique_cards_values) == 2:\n",
        "    if 'J' in list(unique_cards.keys()):\n",
        "      return hand_rank['five']\n",
        "    if max(unique_cards_values) == 4:\n",
        "      return hand_rank['four']\n",
        "    else:\n",
        "      return hand_rank['full']\n",
        "\n",
        "  if len(unique_cards_values) == 3:\n",
        "    if max(unique_cards_values) == 3:\n",
        "      if 'J' in list(unique_cards.keys()):\n",
        "        return hand_rank['four']\n",
        "      else:\n",
        "        return hand_rank['three']\n",
        "    else:\n",
        "      if 'J' in list(unique_cards.keys()):\n",
        "        if unique_cards['J'] == 2:\n",
        "          return hand_rank['four']\n",
        "        else:\n",
        "          return hand_rank['full']\n",
        "      else:\n",
        "        return hand_rank['two']\n",
        "\n",
        "\n",
        "  if len(unique_cards_values) == 4:\n",
        "    if 'J' in list(unique_cards.keys()):\n",
        "      return hand_rank['three']\n",
        "    else:\n",
        "      return hand_rank['one']\n",
        "\n",
        "  if 'J' in list(unique_cards.keys()):\n",
        "    return hand_rank['one']\n",
        "  return hand_rank['high']"
      ],
      "metadata": {
        "id": "ey0k5zoFdTBy"
      },
      "execution_count": 135,
      "outputs": []
    },
    {
      "cell_type": "markdown",
      "source": [
        "### Calculate the total winnings"
      ],
      "metadata": {
        "id": "xdlmiaIwmAxu"
      }
    },
    {
      "cell_type": "code",
      "source": [
        "ranks = {1:[],\n",
        "         2:[],\n",
        "         3:[],\n",
        "         4:[],\n",
        "         5:[],\n",
        "         6:[],\n",
        "         7:[],}\n",
        "for hand in game_data.keys():\n",
        "  r = findHandRankJoker(hand, hand_rank)\n",
        "  ranks[r].append(hand)\n",
        "\n",
        "from functools import cmp_to_key\n",
        "for key, value in ranks.items():\n",
        "  if value:\n",
        "    partial_keyfunc = partial(compareHands, card_rank=card_rank_joker)\n",
        "    keyfunc = cmp_to_key(partial_keyfunc)\n",
        "    ranks[key].sort(key=keyfunc)\n",
        "\n",
        "total_winnings = 0\n",
        "rank = 1\n",
        "for i in ranks.keys():\n",
        "  for j in ranks[i]:\n",
        "    total_winnings += rank*game_data[j]\n",
        "    rank +=1\n",
        "\n",
        "total_winnings"
      ],
      "metadata": {
        "colab": {
          "base_uri": "https://localhost:8080/"
        },
        "id": "VBPCrN3aeC8p",
        "outputId": "61b8d3f1-deff-4cdd-aaab-257d561f3915"
      },
      "execution_count": 137,
      "outputs": [
        {
          "output_type": "execute_result",
          "data": {
            "text/plain": [
              "251135960"
            ]
          },
          "metadata": {},
          "execution_count": 137
        }
      ]
    }
  ]
}