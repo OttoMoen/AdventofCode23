{
  "nbformat": 4,
  "nbformat_minor": 0,
  "metadata": {
    "colab": {
      "provenance": []
    },
    "kernelspec": {
      "name": "python3",
      "display_name": "Python 3"
    },
    "language_info": {
      "name": "python"
    }
  },
  "cells": [
    {
      "cell_type": "markdown",
      "source": [
        "# Advent of Code 2023: Day 13\n",
        "https://adventofcode.com/2023/day/13\n"
      ],
      "metadata": {
        "id": "e7qDcWW3JF8G"
      }
    },
    {
      "cell_type": "markdown",
      "source": [
        "## Part 1\n",
        "For each map, find the number of columns to the left of a vertical line of reflection, or the number of rows above a horizontal line of reflection."
      ],
      "metadata": {
        "id": "krtSVL3uJOQC"
      }
    },
    {
      "cell_type": "markdown",
      "source": [
        "### Get the data into a list of lists ofstrings"
      ],
      "metadata": {
        "id": "Jc2_NXw63k49"
      }
    },
    {
      "cell_type": "code",
      "source": [
        "myfile = open('input.txt', 'r')\n",
        "data = myfile.read()\n",
        "data_list = data.split('\\n')\n",
        "data_map = []\n",
        "tmp = []\n",
        "for line in data_list:\n",
        "  tmp.append(line)\n",
        "  if not line:\n",
        "    data_map.append(tmp[:-1])\n",
        "    tmp = []\n",
        "data_map.append(tmp)"
      ],
      "metadata": {
        "id": "xQfXHvPiJQrT"
      },
      "execution_count": 322,
      "outputs": []
    },
    {
      "cell_type": "markdown",
      "source": [
        "### Create function to return the number of horizontal lines above the reflection line"
      ],
      "metadata": {
        "id": "U8Da3d6sqVD8"
      }
    },
    {
      "cell_type": "code",
      "source": [
        "def aboveHorLine(data, errors=0):\n",
        "  for i in range(1, len(data)):\n",
        "    count = 0\n",
        "    for row1, row2 in zip(data[i-1::-1], data[i:]):\n",
        "      for char1, char2 in zip(row1, row2):\n",
        "        count += (char1!=char2)\n",
        "    if count == errors:\n",
        "      return i\n",
        "  return 0"
      ],
      "metadata": {
        "id": "Z3gYmtPpAtEz"
      },
      "execution_count": 323,
      "outputs": []
    },
    {
      "cell_type": "markdown",
      "source": [
        "### Create function to return the number of vertical lines to the left of the reflection line\n",
        "This simply transposes the map and runs the horizontal check"
      ],
      "metadata": {
        "id": "uNNAr_nbq7M5"
      }
    },
    {
      "cell_type": "code",
      "source": [
        "def leftVerLine(data, errors = 0):\n",
        "  transp_list = [''.join(s) for s in zip(*data)]\n",
        "  return aboveHorLine(transp_list, errors)"
      ],
      "metadata": {
        "id": "2ozNMmA9HW_i"
      },
      "execution_count": 324,
      "outputs": []
    },
    {
      "cell_type": "markdown",
      "source": [
        "### Find the number of rows and columns, multiply the number of lines by 100"
      ],
      "metadata": {
        "id": "j1LgF1h-rJLw"
      }
    },
    {
      "cell_type": "code",
      "source": [
        "total_count = 0\n",
        "for line in data_map:\n",
        "  total_count += aboveHorLine(line) * 100 + leftVerLine(line)\n",
        "\n",
        "total_count"
      ],
      "metadata": {
        "colab": {
          "base_uri": "https://localhost:8080/"
        },
        "id": "VT-YGbfHJjjm",
        "outputId": "7b2fbcf6-170a-40d0-d6e9-7b29beb809d0"
      },
      "execution_count": 325,
      "outputs": [
        {
          "output_type": "execute_result",
          "data": {
            "text/plain": [
              "43614"
            ]
          },
          "metadata": {},
          "execution_count": 325
        }
      ]
    },
    {
      "cell_type": "markdown",
      "source": [
        "## Part 2\n",
        "For each map, find the number of columns to the left of a vertical line of reflection, or the number of rows above horizontal lines of reflection. This time every map contains one incorrect cell that has to be accounted for to find the reflection."
      ],
      "metadata": {
        "id": "yiKeMv3lJPM_"
      }
    },
    {
      "cell_type": "code",
      "source": [
        "total_count = 0\n",
        "for line in data_map:\n",
        "  total_count += aboveHorLine(line,1) * 100 + leftVerLine(line,1)\n",
        "\n",
        "total_count"
      ],
      "metadata": {
        "colab": {
          "base_uri": "https://localhost:8080/"
        },
        "id": "hxiyW03qelrQ",
        "outputId": "ba9db2b7-203e-4b5f-dd8e-f06b83256625"
      },
      "execution_count": 326,
      "outputs": [
        {
          "output_type": "execute_result",
          "data": {
            "text/plain": [
              "36771"
            ]
          },
          "metadata": {},
          "execution_count": 326
        }
      ]
    }
  ]
}
