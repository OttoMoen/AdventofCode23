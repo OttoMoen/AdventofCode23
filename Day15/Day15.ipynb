{
  "nbformat": 4,
  "nbformat_minor": 0,
  "metadata": {
    "colab": {
      "provenance": []
    },
    "kernelspec": {
      "name": "python3",
      "display_name": "Python 3"
    },
    "language_info": {
      "name": "python"
    }
  },
  "cells": [
    {
      "cell_type": "markdown",
      "source": [
        "# Advent of Code 2023: Day 15\n",
        "https://adventofcode.com/2023/day/15\n"
      ],
      "metadata": {
        "id": "e7qDcWW3JF8G"
      }
    },
    {
      "cell_type": "markdown",
      "source": [
        "## Part 1\n",
        "Find the sum of values after running each string through a Hashing algorithm\n",
        "\n",
        "The algorithm consists of taking a string, and for each character:\n",
        "- Turn the character into its ASCII value and add it to the total\n",
        "- Multiply the sum by 17\n",
        "- Take the remainder of dividing the sum by 256"
      ],
      "metadata": {
        "id": "krtSVL3uJOQC"
      }
    },
    {
      "cell_type": "markdown",
      "source": [
        "### Get the data into a list of strings"
      ],
      "metadata": {
        "id": "Jc2_NXw63k49"
      }
    },
    {
      "cell_type": "code",
      "source": [
        "myfile = open('input.txt', 'r')\n",
        "data = myfile.read()\n",
        "data_list = data.split(',')"
      ],
      "metadata": {
        "id": "xQfXHvPiJQrT"
      },
      "execution_count": 1,
      "outputs": []
    },
    {
      "cell_type": "markdown",
      "source": [
        "### Function to perform the hasing algorithm"
      ],
      "metadata": {
        "id": "Lu4V8qSrMiZB"
      }
    },
    {
      "cell_type": "code",
      "source": [
        "def hash(string, mult=17, mod=256):\n",
        "  value = 0\n",
        "  for c in string:\n",
        "    value += ord(c)\n",
        "    value *= mult\n",
        "    value = value % mod\n",
        "  return value"
      ],
      "metadata": {
        "id": "IAL0OXUrJu9H"
      },
      "execution_count": 2,
      "outputs": []
    },
    {
      "cell_type": "markdown",
      "source": [
        "### Calculate the sum"
      ],
      "metadata": {
        "id": "ZHvtbJHkMmAz"
      }
    },
    {
      "cell_type": "code",
      "source": [
        "total_score = 0\n",
        "for string in data_list:\n",
        "  total_score += hash(string)\n",
        "total_score"
      ],
      "metadata": {
        "colab": {
          "base_uri": "https://localhost:8080/"
        },
        "id": "1VwnPZQZKlp1",
        "outputId": "2988b7a2-d037-422e-95eb-36e1f5dba250"
      },
      "execution_count": 3,
      "outputs": [
        {
          "output_type": "execute_result",
          "data": {
            "text/plain": [
              "517551"
            ]
          },
          "metadata": {},
          "execution_count": 3
        }
      ]
    },
    {
      "cell_type": "markdown",
      "source": [
        "## Part 2\n",
        "Now only run the hashing algorithm on the letters that come before '=' or '-' in each string. The resulting number will indicate to one of 256 boxes.\n",
        "- If the string contains a '=' this means the letters and the final number should be added to that box.\n",
        "  - If there are already items in the box, add it to the end.\n",
        "  - If an item with the same letters is already in the box, just replace the final number with the new one.\n",
        "- If the string contains a '-' an item with those letters should be removed from the given box. If no such item exists, nothing happens.\n",
        "- Finally, the total value is calculated by going through every box and doing the following calculation:\n",
        "  - (box number + 1) * (item order within the box + 1) * the number of the item\n"
      ],
      "metadata": {
        "id": "yiKeMv3lJPM_"
      }
    },
    {
      "cell_type": "markdown",
      "source": [
        "### Function to fill the list of boxes with the hashmap algorithm"
      ],
      "metadata": {
        "id": "aKOGV9mvXb_H"
      }
    },
    {
      "cell_type": "code",
      "source": [
        "def hashmap(string, box_list):\n",
        "  ind = string.find('=')\n",
        "  if ind != -1:\n",
        "    box = hash(string[:ind])\n",
        "    replace = False\n",
        "    for i, lens in enumerate(box_list[box]):\n",
        "      if string[:ind] in lens:\n",
        "        box_list[box][i][1] = int(string[-1])\n",
        "        replace = True\n",
        "        break\n",
        "    if not replace:\n",
        "      box_list[box].append([string[:ind], int(string[-1])])\n",
        "\n",
        "  else:\n",
        "    box = hash(string[:-1])\n",
        "    for i, lens in enumerate(box_list[box]):\n",
        "      if string[:-1] in lens:\n",
        "        del(box_list[box][i])\n",
        "        break\n",
        "\n",
        "  return box_list"
      ],
      "metadata": {
        "id": "IOGytOPAMoWx"
      },
      "execution_count": 4,
      "outputs": []
    },
    {
      "cell_type": "markdown",
      "source": [
        "### Run the hashmap algorithm and calculate the final sum"
      ],
      "metadata": {
        "id": "x_cILQzmXhX5"
      }
    },
    {
      "cell_type": "code",
      "source": [
        "box_list = {}\n",
        "for i in range(256):\n",
        "  box_list[i] = []\n",
        "\n",
        "for string in data_list:\n",
        "  box_list = hashmap(string, box_list)\n",
        "\n",
        "focusing_power = 0\n",
        "for box, lenses in box_list.items():\n",
        "  for i, slot in enumerate(lenses):\n",
        "    focusing_power += (box+1)*(i+1)*(slot[1])\n",
        "\n",
        "focusing_power"
      ],
      "metadata": {
        "colab": {
          "base_uri": "https://localhost:8080/"
        },
        "id": "kxDxrU7fQ3XZ",
        "outputId": "57e72214-5c28-46c4-89da-464072e1a1b3"
      },
      "execution_count": 5,
      "outputs": [
        {
          "output_type": "execute_result",
          "data": {
            "text/plain": [
              "286097"
            ]
          },
          "metadata": {},
          "execution_count": 5
        }
      ]
    }
  ]
}