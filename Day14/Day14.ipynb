{
  "nbformat": 4,
  "nbformat_minor": 0,
  "metadata": {
    "colab": {
      "provenance": []
    },
    "kernelspec": {
      "name": "python3",
      "display_name": "Python 3"
    },
    "language_info": {
      "name": "python"
    }
  },
  "cells": [
    {
      "cell_type": "markdown",
      "source": [
        "# Advent of Code 2023: Day 14\n",
        "https://adventofcode.com/2023/day/14\n"
      ],
      "metadata": {
        "id": "e7qDcWW3JF8G"
      }
    },
    {
      "cell_type": "markdown",
      "source": [
        "## Part 1\n",
        "Count the total load applied to the upper barrier of a map when rolling stones up against it, where the load of a stone is equal to the row when it can no longer roll further."
      ],
      "metadata": {
        "id": "krtSVL3uJOQC"
      }
    },
    {
      "cell_type": "markdown",
      "source": [
        "### Get the data into a list of strings"
      ],
      "metadata": {
        "id": "Jc2_NXw63k49"
      }
    },
    {
      "cell_type": "code",
      "source": [
        "myfile = open('input.txt', 'r')\n",
        "data = myfile.read()\n",
        "data_list = data.split('\\n')"
      ],
      "metadata": {
        "id": "xQfXHvPiJQrT"
      },
      "execution_count": 1,
      "outputs": []
    },
    {
      "cell_type": "markdown",
      "source": [
        "### Create function to count the total load after tilting the map to the left"
      ],
      "metadata": {
        "id": "YksL3LseVoS_"
      }
    },
    {
      "cell_type": "code",
      "source": [
        "def tiltLeftLoad(data_map):\n",
        "  total_load = 0\n",
        "  for i in range(len(data_map)):\n",
        "    load = 0\n",
        "    row = len(data_map[0])\n",
        "    r = len(data_map[0])\n",
        "    for j in range(len(data_map[0])):\n",
        "      r -=1\n",
        "      if data_map[i][j] == 'O':\n",
        "        load += row\n",
        "        row -= 1\n",
        "      elif data_map[i][j] == '#':\n",
        "        row = r\n",
        "    total_load += load\n",
        "  return total_load"
      ],
      "metadata": {
        "id": "FtZbQVaaOq2R"
      },
      "execution_count": 2,
      "outputs": []
    },
    {
      "cell_type": "markdown",
      "source": [
        "### Calculate the total load\n",
        "Transpose the input so that tilting left is equivalent to tilting the original data upwards"
      ],
      "metadata": {
        "id": "4Vgl84C4VsoQ"
      }
    },
    {
      "cell_type": "code",
      "source": [
        "tiltLeftLoad([''.join(s) for s in zip(*data_list)])"
      ],
      "metadata": {
        "colab": {
          "base_uri": "https://localhost:8080/"
        },
        "id": "ZMJSZAblQfzf",
        "outputId": "2241b4fd-bc2f-493d-cf2a-91ef68ebd998"
      },
      "execution_count": 3,
      "outputs": [
        {
          "output_type": "execute_result",
          "data": {
            "text/plain": [
              "108918"
            ]
          },
          "metadata": {},
          "execution_count": 3
        }
      ]
    },
    {
      "cell_type": "markdown",
      "source": [
        "## Part 2\n",
        "Calculate the total load after 1.000.000.000 cycles of tilting the map north, west, south, east."
      ],
      "metadata": {
        "id": "B_-eNBP0MCwP"
      }
    },
    {
      "cell_type": "markdown",
      "source": [
        "### Create function to til the map upwards"
      ],
      "metadata": {
        "id": "wmfum1YGuYF7"
      }
    },
    {
      "cell_type": "code",
      "source": [
        "def tiltMap(data_map):\n",
        "  free = [0] * len(data_map[0])\n",
        "  tilted_map = [list(line) for line in data_map]\n",
        "  for i in range(len(tilted_map)):\n",
        "    for j in range(len(tilted_map[0])):\n",
        "      curr = tilted_map[i][j]\n",
        "      if curr == 'O':\n",
        "        tilted_map[free[j]][j] = 'O'\n",
        "        if free[j]!=i:\n",
        "          tilted_map[i][j] = '.'\n",
        "        free[j] += 1\n",
        "      elif curr == '#':\n",
        "        free[j] = i+1\n",
        "\n",
        "  data_map = [''.join(row) for row in tilted_map]\n",
        "  return data_map"
      ],
      "metadata": {
        "id": "9ETItF1_hZwk"
      },
      "execution_count": 4,
      "outputs": []
    },
    {
      "cell_type": "markdown",
      "source": [
        "### Create function to rotate the map 90 degrees to the right"
      ],
      "metadata": {
        "id": "ilKN1xxNubNK"
      }
    },
    {
      "cell_type": "code",
      "source": [
        "def rotateMap(data_map):\n",
        "  return list(map(list, zip(*data_map[::-1])))"
      ],
      "metadata": {
        "id": "PCWkHHechvOv"
      },
      "execution_count": 5,
      "outputs": []
    },
    {
      "cell_type": "markdown",
      "source": [
        "### Create function to tilt the map in each direction succesively"
      ],
      "metadata": {
        "id": "akwDBkFyugDg"
      }
    },
    {
      "cell_type": "code",
      "source": [
        "def fullCycle(data_map):\n",
        "  for i in range(4):\n",
        "    data_map = tiltMap(data_map)\n",
        "    data_map = rotateMap(data_map)\n",
        "  return data_map"
      ],
      "metadata": {
        "id": "rR7VOUKJmiKJ"
      },
      "execution_count": 6,
      "outputs": []
    },
    {
      "cell_type": "markdown",
      "source": [
        "### Create fulction to calculate the load on the upper edge for the current map layout"
      ],
      "metadata": {
        "id": "Y2dQc0fBuy_y"
      }
    },
    {
      "cell_type": "code",
      "source": [
        "def calculateLoad(data_map):\n",
        "  total_load = 0\n",
        "  for i in range(len(data_map)):\n",
        "    for j in range(len(data_map[0])):\n",
        "      if data_map[i][j] == 'O':\n",
        "        total_load += len(data_map)-i\n",
        "  return total_load"
      ],
      "metadata": {
        "id": "YTwOI43HovFk"
      },
      "execution_count": 7,
      "outputs": []
    },
    {
      "cell_type": "markdown",
      "source": [
        "### Calculate the load after 1.000.000.000 cycles\n",
        "Compute a cycle, save its load and its layout. If an identical map is found a second time, a loop has been discovered. In that case the load after the final cycle can be directly calculated with the modulo operator."
      ],
      "metadata": {
        "id": "0gP3ybugu6rc"
      }
    },
    {
      "cell_type": "code",
      "source": [
        "cycles = 1000000000\n",
        "score_cache = {}\n",
        "seen_maps = {}\n",
        "\n",
        "for i in range(1,cycles):\n",
        "  data_list = fullCycle(data_list)\n",
        "  if str(data_list) in seen_maps:\n",
        "    loop_begin = seen_maps[str(data_list)]\n",
        "    loop_length = i - loop_begin\n",
        "    break\n",
        "  score_cache[i] = calculateLoad(data_list)\n",
        "  seen_maps[str(data_list)] = i\n",
        "\n",
        "score_cache[((cycles-loop_begin) % loop_length) + loop_begin]"
      ],
      "metadata": {
        "colab": {
          "base_uri": "https://localhost:8080/"
        },
        "id": "5RWeuFitm_P9",
        "outputId": "b39e92c4-005d-42ec-92d9-b90bd558b36a"
      },
      "execution_count": 8,
      "outputs": [
        {
          "output_type": "execute_result",
          "data": {
            "text/plain": [
              "100310"
            ]
          },
          "metadata": {},
          "execution_count": 8
        }
      ]
    }
  ]
}