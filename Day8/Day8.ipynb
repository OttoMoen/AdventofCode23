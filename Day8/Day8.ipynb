{
  "nbformat": 4,
  "nbformat_minor": 0,
  "metadata": {
    "colab": {
      "provenance": []
    },
    "kernelspec": {
      "name": "python3",
      "display_name": "Python 3"
    },
    "language_info": {
      "name": "python"
    }
  },
  "cells": [
    {
      "cell_type": "markdown",
      "source": [
        "# Advent of Code 2023: Day 8\n",
        "https://adventofcode.com/2023/day/8\n"
      ],
      "metadata": {
        "id": "e7qDcWW3JF8G"
      }
    },
    {
      "cell_type": "markdown",
      "source": [
        "## Part 1\n",
        "Find the number of steps to get from the current location to the end"
      ],
      "metadata": {
        "id": "krtSVL3uJOQC"
      }
    },
    {
      "cell_type": "markdown",
      "source": [
        "### Get the data into a list of strings"
      ],
      "metadata": {
        "id": "Jc2_NXw63k49"
      }
    },
    {
      "cell_type": "code",
      "source": [
        "myfile = open('input.txt', 'r')\n",
        "data = myfile.read()\n",
        "data_list = data.split('\\n')\n",
        "instructions = list(data_list[0])"
      ],
      "metadata": {
        "id": "xQfXHvPiJQrT"
      },
      "execution_count": 27,
      "outputs": []
    },
    {
      "cell_type": "markdown",
      "source": [
        "### Transform the list into a dictionary"
      ],
      "metadata": {
        "id": "y0ZtG-ksil_i"
      }
    },
    {
      "cell_type": "code",
      "source": [
        "data_map = {}\n",
        "for line in data_list[2:]:\n",
        "  tmp = line.split()\n",
        "  data_map[tmp[0]] = [tmp[2][1:4],tmp[3][:3]]"
      ],
      "metadata": {
        "id": "vOUnDR3gYdjs"
      },
      "execution_count": 70,
      "outputs": []
    },
    {
      "cell_type": "markdown",
      "source": [
        "### Create functions to update location based on instruction and to count the number of steps"
      ],
      "metadata": {
        "id": "GNCvvdK3iqmS"
      }
    },
    {
      "cell_type": "code",
      "source": [
        "def move(curr_loc, direction, data_map):\n",
        "  if direction == 'L':\n",
        "    return data_map[curr_loc][0]\n",
        "  elif direction == 'R':\n",
        "    return data_map[curr_loc][1]\n",
        "  else:\n",
        "    return \"Invalid direction\""
      ],
      "metadata": {
        "id": "7ebBT58XF6pV"
      },
      "execution_count": 71,
      "outputs": []
    },
    {
      "cell_type": "code",
      "source": [
        "def stepCount(start, part=1):\n",
        "  move_count = 0\n",
        "  curr = start\n",
        "  while True:\n",
        "    curr = move(curr, instructions[move_count%len(instructions)], data_map)\n",
        "    move_count +=1\n",
        "    if part == 1:\n",
        "      if curr == 'ZZZ' or curr == 'Invalid direction':\n",
        "        break\n",
        "    elif part == 2:\n",
        "      if curr.endswith('Z') or curr == 'Invalid direction':\n",
        "        break\n",
        "  return move_count"
      ],
      "metadata": {
        "id": "M98S3YFvREt_"
      },
      "execution_count": 72,
      "outputs": []
    },
    {
      "cell_type": "markdown",
      "source": [
        "### Count the number of steps to arrive at the end"
      ],
      "metadata": {
        "id": "n7XNL58O8Eby"
      }
    },
    {
      "cell_type": "code",
      "source": [
        "stepCount('AAA')"
      ],
      "metadata": {
        "id": "Vg6HQ-Us5wMu",
        "colab": {
          "base_uri": "https://localhost:8080/"
        },
        "outputId": "848035a6-0a47-4ce0-f114-e9cf70b4e7f1"
      },
      "execution_count": 73,
      "outputs": [
        {
          "output_type": "execute_result",
          "data": {
            "text/plain": [
              "21883"
            ]
          },
          "metadata": {},
          "execution_count": 73
        }
      ]
    },
    {
      "cell_type": "markdown",
      "source": [
        "## Part 2\n",
        "Find the number of steps to simultaneously get from every location ending with A to a location ending with Z"
      ],
      "metadata": {
        "id": "yiKeMv3lJPM_"
      }
    },
    {
      "cell_type": "markdown",
      "source": [
        "### Retrieve a list of every starting location"
      ],
      "metadata": {
        "id": "IZmNH6nGVUnv"
      }
    },
    {
      "cell_type": "code",
      "source": [
        "starting_locations = []\n",
        "for key, value in data_map.items():\n",
        "  if key.endswith('A'):\n",
        "    starting_locations.append(key)"
      ],
      "metadata": {
        "id": "9KAiSGAjKN4m"
      },
      "execution_count": 75,
      "outputs": []
    },
    {
      "cell_type": "markdown",
      "source": [
        "### Count the number of steps to simultaneously arrive at every end"
      ],
      "metadata": {
        "id": "_MoSrWdfV7HE"
      }
    },
    {
      "cell_type": "code",
      "source": [
        "from math import lcm\n",
        "move_count = 1\n",
        "for loc in starting_locations:\n",
        "  move_count = lcm(move_count, stepCount(loc, part=2))\n",
        "\n",
        "move_count"
      ],
      "metadata": {
        "colab": {
          "base_uri": "https://localhost:8080/"
        },
        "id": "uuGQePZzLLH4",
        "outputId": "5bbf6273-1265-49c4-8f6d-9ad02b0fe491"
      },
      "execution_count": 76,
      "outputs": [
        {
          "output_type": "execute_result",
          "data": {
            "text/plain": [
              "12833235391111"
            ]
          },
          "metadata": {},
          "execution_count": 76
        }
      ]
    }
  ]
}