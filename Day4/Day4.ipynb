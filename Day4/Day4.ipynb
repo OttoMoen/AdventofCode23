{
  "nbformat": 4,
  "nbformat_minor": 0,
  "metadata": {
    "colab": {
      "provenance": []
    },
    "kernelspec": {
      "name": "python3",
      "display_name": "Python 3"
    },
    "language_info": {
      "name": "python"
    }
  },
  "cells": [
    {
      "cell_type": "markdown",
      "source": [
        "# Advent of Code 2023: Day 4\n",
        "https://adventofcode.com/2023/day/4\n"
      ],
      "metadata": {
        "id": "e7qDcWW3JF8G"
      }
    },
    {
      "cell_type": "markdown",
      "source": [
        "## Part 1\n",
        "Calculate the total amount of lottery winnings"
      ],
      "metadata": {
        "id": "krtSVL3uJOQC"
      }
    },
    {
      "cell_type": "markdown",
      "source": [
        "### Get the data into a list of strings"
      ],
      "metadata": {
        "id": "Jc2_NXw63k49"
      }
    },
    {
      "cell_type": "code",
      "source": [
        "myfile = open('input.txt', 'r')\n",
        "data = myfile.read()\n",
        "data_list = data.split('\\n')\n",
        "data_list_split = [i.split('|') for i in data_list]\n",
        "data_list = []\n",
        "for i in data_list_split:\n",
        "  data_list.append([list(filter(None, i[0].split(' ')))[2:],list(filter(None, i[1].split(' ')))])"
      ],
      "metadata": {
        "id": "xQfXHvPiJQrT"
      },
      "execution_count": 125,
      "outputs": []
    },
    {
      "cell_type": "code",
      "source": [
        "total = 0\n",
        "for i in data_list:\n",
        "  ticket = 0\n",
        "  for j in i[1]:\n",
        "    if j in i[0]:\n",
        "      if ticket == 0:\n",
        "        ticket = 1\n",
        "      else:\n",
        "        ticket = ticket*2\n",
        "  total = total + ticket\n",
        "total"
      ],
      "metadata": {
        "colab": {
          "base_uri": "https://localhost:8080/"
        },
        "id": "NnRZWP21AZ11",
        "outputId": "c142a37d-ec22-4083-d8c3-94173f4b4f31"
      },
      "execution_count": 126,
      "outputs": [
        {
          "output_type": "execute_result",
          "data": {
            "text/plain": [
              "22674"
            ]
          },
          "metadata": {},
          "execution_count": 126
        }
      ]
    },
    {
      "cell_type": "markdown",
      "source": [
        "## Part 2\n",
        "Calculate the number of scratchcards won"
      ],
      "metadata": {
        "id": "KdPk423BDEP-"
      }
    },
    {
      "cell_type": "code",
      "source": [
        "data_dict = {}\n",
        "card_dict = {}\n",
        "for i in range(len(data_list)):\n",
        "  data_dict[i] = data_list[i]\n",
        "  card_dict[i] = 1"
      ],
      "metadata": {
        "id": "5vc4vQfSDGqL"
      },
      "execution_count": 127,
      "outputs": []
    },
    {
      "cell_type": "code",
      "source": [
        "winnings = {}\n",
        "for i in range(len(card_dict.keys())):\n",
        "  win = 0\n",
        "  for j in data_dict[i][0]:\n",
        "    if j in data_dict[i][1]:\n",
        "      win += 1\n",
        "  winnings[i] = win"
      ],
      "metadata": {
        "id": "-cer7TU0Oi0Y"
      },
      "execution_count": 128,
      "outputs": []
    },
    {
      "cell_type": "code",
      "source": [
        "for i in card_dict.keys():\n",
        "  if winnings[i]>0:\n",
        "    for j in range(i+1, i+1+winnings[i]):\n",
        "      card_dict[j] = card_dict[j] + (1*card_dict[i])\n",
        "\n",
        "total = 0\n",
        "for i in card_dict.keys():\n",
        "  total = total + card_dict[i]\n",
        "total"
      ],
      "metadata": {
        "colab": {
          "base_uri": "https://localhost:8080/"
        },
        "id": "BgjOligLPntn",
        "outputId": "71b146f8-4a77-418b-8b5f-cf905dc1eb25"
      },
      "execution_count": 129,
      "outputs": [
        {
          "output_type": "execute_result",
          "data": {
            "text/plain": [
              "5747443"
            ]
          },
          "metadata": {},
          "execution_count": 129
        }
      ]
    }
  ]
}