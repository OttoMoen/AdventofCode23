{
  "nbformat": 4,
  "nbformat_minor": 0,
  "metadata": {
    "colab": {
      "provenance": []
    },
    "kernelspec": {
      "name": "python3",
      "display_name": "Python 3"
    },
    "language_info": {
      "name": "python"
    }
  },
  "cells": [
    {
      "cell_type": "markdown",
      "source": [
        "# Advent of Code 2023: Day 9\n",
        "https://adventofcode.com/2023/day/9\n"
      ],
      "metadata": {
        "id": "e7qDcWW3JF8G"
      }
    },
    {
      "cell_type": "markdown",
      "source": [
        "## Part 1\n",
        "Extrapolate how a time-series data will change one step into the future"
      ],
      "metadata": {
        "id": "krtSVL3uJOQC"
      }
    },
    {
      "cell_type": "markdown",
      "source": [
        "### Get the data into a list of integers"
      ],
      "metadata": {
        "id": "Jc2_NXw63k49"
      }
    },
    {
      "cell_type": "code",
      "source": [
        "myfile = open('input.txt', 'r')\n",
        "data = myfile.read()\n",
        "data_list = data.split('\\n')\n",
        "data_history = []\n",
        "for line in data_list:\n",
        "  data_history.append(list(map(int, line.split())))"
      ],
      "metadata": {
        "id": "xQfXHvPiJQrT"
      },
      "execution_count": 69,
      "outputs": []
    },
    {
      "cell_type": "markdown",
      "source": [
        "### Create function to find a list of differences between the values in the original list"
      ],
      "metadata": {
        "id": "PdcoxYHx21oo"
      }
    },
    {
      "cell_type": "code",
      "source": [
        "def getDifference(history):\n",
        "  diff = []\n",
        "  for i in range(len(history[1:])):\n",
        "    diff.append(history[i+1]-history[i])\n",
        "  return diff"
      ],
      "metadata": {
        "id": "G-l8M-hvvTHf"
      },
      "execution_count": 70,
      "outputs": []
    },
    {
      "cell_type": "markdown",
      "source": [
        "### Create function to loop this process until all differences are zero"
      ],
      "metadata": {
        "id": "bC4s4GtQ2-d5"
      }
    },
    {
      "cell_type": "code",
      "source": [
        "def untilZero(history):\n",
        "  curr = history\n",
        "  seqs = [history]\n",
        "  while set(curr) != {0}:\n",
        "    curr = getDifference(curr)\n",
        "    seqs.append(curr)\n",
        "  return seqs"
      ],
      "metadata": {
        "id": "OsnI7Namv5VG"
      },
      "execution_count": 71,
      "outputs": []
    },
    {
      "cell_type": "markdown",
      "source": [
        "### Calculate the next value for each time-series and sum them up"
      ],
      "metadata": {
        "id": "ztoqxszc3DpO"
      }
    },
    {
      "cell_type": "code",
      "source": [
        "total_sum = 0\n",
        "\n",
        "for line in data_history:\n",
        "  seqs = untilZero(line)\n",
        "  for i, seq in reversed(list(enumerate(seqs[1:]))):\n",
        "    seqs[i].append(seqs[i][-1] + seqs[i+1][-1])\n",
        "  total_sum += seqs[0][-1]\n",
        "\n",
        "total_sum"
      ],
      "metadata": {
        "colab": {
          "base_uri": "https://localhost:8080/"
        },
        "id": "T5vmTQVbxyTC",
        "outputId": "826d96d5-c490-4ec3-afb1-3df8f422cb00"
      },
      "execution_count": 72,
      "outputs": [
        {
          "output_type": "execute_result",
          "data": {
            "text/plain": [
              "1995001648"
            ]
          },
          "metadata": {},
          "execution_count": 72
        }
      ]
    },
    {
      "cell_type": "markdown",
      "source": [
        "## Part 2\n",
        "Instead of going forward, extrapolate one step into the past"
      ],
      "metadata": {
        "id": "Tqhr44Oq0U7O"
      }
    },
    {
      "cell_type": "code",
      "source": [
        "total_sum = 0\n",
        "\n",
        "for line in data_history:\n",
        "  seqs = untilZero(line)\n",
        "  for i, seq in reversed(list(enumerate(seqs[1:]))):\n",
        "    seqs[i].append(seqs[i][0] - seqs[i+1][-1])\n",
        "  total_sum += seqs[0][-1]\n",
        "\n",
        "total_sum"
      ],
      "metadata": {
        "colab": {
          "base_uri": "https://localhost:8080/"
        },
        "id": "rB1eGlAm0Wq0",
        "outputId": "c5f9128a-f5a1-466e-83c3-96c874f86b93"
      },
      "execution_count": 73,
      "outputs": [
        {
          "output_type": "execute_result",
          "data": {
            "text/plain": [
              "988"
            ]
          },
          "metadata": {},
          "execution_count": 73
        }
      ]
    }
  ]
}