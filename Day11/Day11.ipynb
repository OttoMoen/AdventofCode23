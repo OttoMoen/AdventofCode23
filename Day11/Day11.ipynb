{
  "nbformat": 4,
  "nbformat_minor": 0,
  "metadata": {
    "colab": {
      "provenance": []
    },
    "kernelspec": {
      "name": "python3",
      "display_name": "Python 3"
    },
    "language_info": {
      "name": "python"
    }
  },
  "cells": [
    {
      "cell_type": "markdown",
      "source": [
        "# Advent of Code 2023: Day 11\n",
        "https://adventofcode.com/2023/day/11\n"
      ],
      "metadata": {
        "id": "e7qDcWW3JF8G"
      }
    },
    {
      "cell_type": "markdown",
      "source": [
        "## Part 1\n",
        "Find the sum of the shortest path between every pair of galaxies"
      ],
      "metadata": {
        "id": "krtSVL3uJOQC"
      }
    },
    {
      "cell_type": "markdown",
      "source": [
        "### Get the data into a list of strings"
      ],
      "metadata": {
        "id": "Jc2_NXw63k49"
      }
    },
    {
      "cell_type": "code",
      "source": [
        "myfile = open('input.txt', 'r')\n",
        "data = myfile.read()\n",
        "data_list = data.split('\\n')"
      ],
      "metadata": {
        "id": "xQfXHvPiJQrT"
      },
      "execution_count": 148,
      "outputs": []
    },
    {
      "cell_type": "markdown",
      "source": [
        "### Find empty rows and columns"
      ],
      "metadata": {
        "id": "OrKWdiQypd0a"
      }
    },
    {
      "cell_type": "code",
      "source": [
        "# Find empty rows                                               # Expand rows\n",
        "e_row = []                                                      # i = 0\n",
        "for i in range(len(data_list)):                                 # while i < len(data_list):\n",
        "  if data_list[i] == len(data_list[i])*data_list[i][0]:         #   if data_list[i] == len(data_list[i])*data_list[i][0]:\n",
        "    e_row.append(i)                                             #     data_list.insert(i, data_list[i])\n",
        "                                                                #     i +=2\n",
        "                                                                #   else:\n",
        "                                                                #     i +=1\n",
        "\n",
        "\n",
        "# Find empty columns                                            # Expand columns\n",
        "e_col = []                                                      # j = 0\n",
        "nrow = len(data_list)                                           # nrow = len(data_list)\n",
        "for j in range(len(data_list[0])):                              # while j < len(data_list[0]):\n",
        "  i = 0                                                         #   i = 0\n",
        "  empty = True                                                  #   empty = True\n",
        "  while i < nrow:                                               #   while i < nrow:\n",
        "    if data_list[i][j] != '.':                                  #     if data_list[i][j] != '.':\n",
        "      empty = False                                             #       empty = False\n",
        "      break                                                     #       break\n",
        "    else:                                                       #     else:\n",
        "      i +=1                                                     #       i +=1\n",
        "  if empty:                                                     #   if empty:\n",
        "    e_col.append(j)                                             #     for l in range(nrow):\n",
        "                                                                #       data_list[l] = data_list[l][:j]+'.'+data_list[l][j:]\n",
        "                                                                #     j +=2\n",
        "                                                                #   else:\n",
        "                                                                #     j +=1"
      ],
      "metadata": {
        "id": "5oq8_R5j18C3"
      },
      "execution_count": 149,
      "outputs": []
    },
    {
      "cell_type": "markdown",
      "source": [
        "### Create functions:"
      ],
      "metadata": {
        "id": "XR1P0JNs84Tf"
      }
    },
    {
      "cell_type": "markdown",
      "source": [
        "#### Find the coordinates of galaxies"
      ],
      "metadata": {
        "id": "AFS6JtlO9DBK"
      }
    },
    {
      "cell_type": "code",
      "source": [
        "def findGalaxies(data_map, symbol):\n",
        "  output = []\n",
        "  for i in range(len(data_map)):\n",
        "    for j in range(len(data_map[0])):\n",
        "      if data_map[i][j] == symbol:\n",
        "        output.append([i,j])\n",
        "  return output"
      ],
      "metadata": {
        "id": "pPtiOPhFyZJu"
      },
      "execution_count": 150,
      "outputs": []
    },
    {
      "cell_type": "markdown",
      "source": [
        "#### Calculate the manhattan distance between x and y"
      ],
      "metadata": {
        "id": "PS3DvUyB9HC_"
      }
    },
    {
      "cell_type": "code",
      "source": [
        "def manhattanDistance(x1,y1,x2,y2):\n",
        "  return abs(x1-x2)+abs(y1-y2)"
      ],
      "metadata": {
        "id": "yJaS6I4vzqz1"
      },
      "execution_count": 151,
      "outputs": []
    },
    {
      "cell_type": "markdown",
      "source": [
        "#### Account for expansion of empty rows and columns between two galaxies"
      ],
      "metadata": {
        "id": "SaTDvUru9MOd"
      }
    },
    {
      "cell_type": "code",
      "source": [
        "def accountForExpansion(g1, g2, empty_rows, empty_cols, mult):\n",
        "  c = 0\n",
        "  min_row = min(g1[0],g2[0])\n",
        "  max_row = max(g1[0],g2[0])\n",
        "  min_col = min(g1[1],g2[1])\n",
        "  max_col = max(g1[1],g2[1])\n",
        "\n",
        "  for i in empty_rows:\n",
        "    if i > min_row and i < max_row:\n",
        "      c +=1\n",
        "  for i in empty_cols:\n",
        "    if i > min_col and i < max_col:\n",
        "      c +=1\n",
        "\n",
        "  return c * (mult-1)"
      ],
      "metadata": {
        "id": "xehk8UYg4T1R"
      },
      "execution_count": 152,
      "outputs": []
    },
    {
      "cell_type": "markdown",
      "source": [
        "### Calculate the sum of the pairwise distances"
      ],
      "metadata": {
        "id": "rmrmzHNv9UZ9"
      }
    },
    {
      "cell_type": "code",
      "source": [
        "galaxies = findGalaxies(data_list, '#')\n",
        "total_distance = 0\n",
        "\n",
        "for i in range(len(galaxies)-1):\n",
        "  g1 = galaxies[i]\n",
        "  for j in range(i,len(galaxies)):\n",
        "    g2 = galaxies[j]\n",
        "    total_distance += manhattanDistance(g1[0],g1[1],g2[0],g2[1])\n",
        "    total_distance += accountForExpansion(g1,g2, e_row, e_col, 2)\n",
        "\n",
        "total_distance"
      ],
      "metadata": {
        "colab": {
          "base_uri": "https://localhost:8080/"
        },
        "id": "nMq7nIUQy5db",
        "outputId": "7c4b4db5-8d40-4bbd-dad0-07e12fe03c2f"
      },
      "execution_count": 153,
      "outputs": [
        {
          "output_type": "execute_result",
          "data": {
            "text/plain": [
              "9734203"
            ]
          },
          "metadata": {},
          "execution_count": 153
        }
      ]
    },
    {
      "cell_type": "markdown",
      "source": [
        "## Part 2\n",
        "Find the sum of the shortest path between every pair of galaxies, but instead of doubling empty rows and columns, increase them by one million times."
      ],
      "metadata": {
        "id": "XjC34ana0nhD"
      }
    },
    {
      "cell_type": "code",
      "source": [
        "total_distance = 0\n",
        "\n",
        "for i in range(len(galaxies)-1):\n",
        "  g1 = galaxies[i]\n",
        "  for j in range(i,len(galaxies)):\n",
        "    g2 = galaxies[j]\n",
        "    total_distance += manhattanDistance(g1[0],g1[1],g2[0],g2[1])\n",
        "    total_distance += accountForExpansion(g1,g2, e_row, e_col, 1000000)\n",
        "\n",
        "total_distance"
      ],
      "metadata": {
        "colab": {
          "base_uri": "https://localhost:8080/"
        },
        "id": "_6tQE5IF2fkW",
        "outputId": "4a6b6044-1f4f-46f0-c7c7-44cf9f50d4dd"
      },
      "execution_count": 154,
      "outputs": [
        {
          "output_type": "execute_result",
          "data": {
            "text/plain": [
              "568914596391"
            ]
          },
          "metadata": {},
          "execution_count": 154
        }
      ]
    }
  ]
}